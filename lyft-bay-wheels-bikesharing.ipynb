{
 "cells": [
  {
   "cell_type": "markdown",
   "metadata": {
    "slideshow": {
     "slide_type": "slide"
    }
   },
   "source": [
    "# Project: Communicate Data Findings - Lyft Bay Wheels"
   ]
  },
  {
   "cell_type": "markdown",
   "metadata": {
    "slideshow": {
     "slide_type": "slide"
    }
   },
   "source": [
    "## Table of Contents\n",
    "\n",
    "- [Introduction](#intro)\n",
    "- [1. Data Wrangling](#wrangling)\n",
    "  - [1.1 Data Gathering](#gathering)\n",
    "  - [1.2 Data Assessing: Tidiness](#assessing-tidi)  \n",
    "  - [1.3 Data Cleaning: Tidiness](#cleaning-tidi)\n",
    "  - [1.4 Data Assessing: Quality](#assessing-qual)\n",
    "  - [1.5 Data Cleaning: Quality](#cleaning-qual)\n",
    "- [2. Data Exploration](#exploration)\n",
    "  - [2.1 Univariate Exploration](#univariate)\n",
    "  - [2.2 Bivariate Exploration](#bivariate)\n",
    "  - [2.2 Multivariate Exploration](#multivariate)\n",
    "- [3. Conclusion](#conclusion)"
   ]
  },
  {
   "cell_type": "markdown",
   "metadata": {
    "slideshow": {
     "slide_type": "slide"
    }
   },
   "source": [
    "<a id='intro'></a>\n",
    "# Introduction"
   ]
  },
  {
   "cell_type": "markdown",
   "metadata": {
    "slideshow": {
     "slide_type": "slide"
    }
   },
   "source": [
    "### Bay Wheels\n",
    "\n",
    "Bay Wheels is a public bicycle sharing company in the San Francisco Bay Area, California owned by the ridesharing company **Lyft Inc**. Bay Wheels is the first regional and large-scale bicycle sharing system deployed in California and on the West Coast of the United States.\n",
    "\n",
    "\n",
    "It was established as **Bay Area Bike Share** in August 2013. In June 2017, the system was re-launched as **Ford GoBike** in a partnership with Ford Motor Company. After Motivate's acquisition by Lyft, it was renamed to **Bay Wheels** in June 2019."
   ]
  },
  {
   "cell_type": "markdown",
   "metadata": {
    "slideshow": {
     "slide_type": "slide"
    }
   },
   "source": [
    "### The Fleet\n",
    "\n",
    "As of January 2018, the Bay Wheels system had **over 2,600 bicycles in 262 stations** across San Francisco, East Bay and San Jose.\n",
    "\n",
    "The Bay Wheels fleet consists of two kinds of bicycles:\n",
    "\n",
    "1. **Classic**\n",
    "2. **Hybrid** (electric-assist)"
   ]
  },
  {
   "cell_type": "markdown",
   "metadata": {
    "slideshow": {
     "slide_type": "slide"
    }
   },
   "source": [
    "### Pricing\n",
    "\n",
    "The bicycles are available 24 hours a day, seven days a week for periods ranging from a single ride (up to 30 minutes) to a day pass. In January 2018, the Bay Wheels system had about 10,000 annual subscribers.\n",
    "\n",
    "There are two types of Lyft service users:\n",
    "\n",
    "**1. Subscribers**\n",
    "\n",
    "\n",
    "- Annual membership: \\$149/year\n",
    "- Benefits:\n",
    "  - 45 mins of ride time vs. 30 mins for Customers\n",
    "  - Unlimited rides up to 45 mins in duration\n",
    "  - E-bike upgrade for $0.15/min\n",
    "- Day pass available for \\$10/day\n",
    "\n",
    "**2. Customers**\n",
    "\n",
    "\n",
    "- No fixed costs\n",
    "- First 30 mins: \\$2\n",
    "- Additional 15 mins: \\$2\n",
    "- Day pass available for \\$10/day"
   ]
  },
  {
   "cell_type": "markdown",
   "metadata": {
    "slideshow": {
     "slide_type": "slide"
    }
   },
   "source": [
    "<a id='wrangling'></a>\n",
    "# 1. Data Wrangling"
   ]
  },
  {
   "cell_type": "code",
   "execution_count": 1,
   "metadata": {
    "slideshow": {
     "slide_type": "skip"
    }
   },
   "outputs": [],
   "source": [
    "# Import libraries\n",
    "import numpy as np\n",
    "import pandas as pd\n",
    "\n",
    "import matplotlib.pyplot as plt\n",
    "import seaborn as sns\n",
    "%matplotlib inline\n",
    "\n",
    "from geopy import distance\n",
    "\n",
    "import requests\n",
    "import os\n",
    "import zipfile\n",
    "\n",
    "# Suppress warnings\n",
    "import warnings\n",
    "warnings.simplefilter(\"ignore\")\n",
    "\n",
    "# Set base options\n",
    "sns.set(style='darkgrid')\n",
    "base_color = sns.color_palette()[0]"
   ]
  },
  {
   "cell_type": "markdown",
   "metadata": {
    "slideshow": {
     "slide_type": "skip"
    }
   },
   "source": [
    "<a id='gathering'></a>\n",
    "## 1.1 Data Gathering"
   ]
  },
  {
   "cell_type": "code",
   "execution_count": 2,
   "metadata": {
    "slideshow": {
     "slide_type": "skip"
    }
   },
   "outputs": [],
   "source": [
    "# Create folder if it doesn't already exist\n",
    "os.chdir('/Users/frederikschmidt/Python-Notebooks/Data-Analyst-Nanodegree/5-Data-Visualization/Project 5 - Communicate Data Findings')\n",
    "folder_name = 'bay-wheels-data'\n",
    "if not os.path.exists(folder_name):\n",
    "    os.makedirs(folder_name)"
   ]
  },
  {
   "cell_type": "code",
   "execution_count": 3,
   "metadata": {
    "slideshow": {
     "slide_type": "skip"
    }
   },
   "outputs": [],
   "source": [
    "# Manually add the url of every zip file to a list\n",
    "bay_wheels_url = ['https://s3.amazonaws.com/baywheels-data/2017-fordgobike-tripdata.csv.zip',\n",
    "                  'https://s3.amazonaws.com/baywheels-data/201801-fordgobike-tripdata.csv.zip',\n",
    "                  'https://s3.amazonaws.com/baywheels-data/201802-fordgobike-tripdata.csv.zip',\n",
    "                  'https://s3.amazonaws.com/baywheels-data/201803-fordgobike-tripdata.csv.zip',\n",
    "                  'https://s3.amazonaws.com/baywheels-data/201804-fordgobike-tripdata.csv.zip',\n",
    "                  'https://s3.amazonaws.com/baywheels-data/201805-fordgobike-tripdata.csv.zip',\n",
    "                  'https://s3.amazonaws.com/baywheels-data/201806-fordgobike-tripdata.csv.zip',\n",
    "                  'https://s3.amazonaws.com/baywheels-data/201807-fordgobike-tripdata.csv.zip',\n",
    "                  'https://s3.amazonaws.com/baywheels-data/201808-fordgobike-tripdata.csv.zip',\n",
    "                  'https://s3.amazonaws.com/baywheels-data/201809-fordgobike-tripdata.csv.zip',\n",
    "                  'https://s3.amazonaws.com/baywheels-data/201810-fordgobike-tripdata.csv.zip',\n",
    "                  'https://s3.amazonaws.com/baywheels-data/201811-fordgobike-tripdata.csv.zip',\n",
    "                  'https://s3.amazonaws.com/baywheels-data/201812-fordgobike-tripdata.csv.zip',\n",
    "                  'https://s3.amazonaws.com/baywheels-data/201901-fordgobike-tripdata.csv.zip',\n",
    "                  'https://s3.amazonaws.com/baywheels-data/201902-fordgobike-tripdata.csv.zip',\n",
    "                  'https://s3.amazonaws.com/baywheels-data/201903-fordgobike-tripdata.csv.zip',\n",
    "                  'https://s3.amazonaws.com/baywheels-data/201904-fordgobike-tripdata.csv.zip',\n",
    "                  'https://s3.amazonaws.com/baywheels-data/201905-baywheels-tripdata.csv.zip',\n",
    "                  'https://s3.amazonaws.com/baywheels-data/201906-baywheels-tripdata.csv.zip',\n",
    "                  'https://s3.amazonaws.com/baywheels-data/201907-baywheels-tripdata.csv.zip',\n",
    "                  'https://s3.amazonaws.com/baywheels-data/201908-baywheels-tripdata.csv.zip',\n",
    "                  'https://s3.amazonaws.com/baywheels-data/201909-baywheels-tripdata.csv.zip',\n",
    "                  'https://s3.amazonaws.com/baywheels-data/201910-baywheels-tripdata.csv.zip',\n",
    "                  'https://s3.amazonaws.com/baywheels-data/201911-baywheels-tripdata.csv.zip',\n",
    "                  'https://s3.amazonaws.com/baywheels-data/201912-baywheels-tripdata.csv.zip',\n",
    "                  'https://s3.amazonaws.com/baywheels-data/202001-baywheels-tripdata.csv.zip',\n",
    "                  'https://s3.amazonaws.com/baywheels-data/202002-baywheels-tripdata.csv.zip',\n",
    "                  'https://s3.amazonaws.com/baywheels-data/202003-baywheels-tripdata.csv.zip',\n",
    "                  'https://s3.amazonaws.com/baywheels-data/202004-baywheels-tripdata.csv.zip',\n",
    "                  'https://s3.amazonaws.com/baywheels-data/202005-baywheels-tripdata.csv.zip',\n",
    "                  'https://s3.amazonaws.com/baywheels-data/202006-baywheels-tripdata.csv.zip']"
   ]
  },
  {
   "cell_type": "code",
   "execution_count": 4,
   "metadata": {
    "slideshow": {
     "slide_type": "skip"
    }
   },
   "outputs": [],
   "source": [
    "# Save every zip file in the folder created above\n",
    "for url in bay_wheels_url:\n",
    "    response = requests.get(url)\n",
    "    with open(os.path.join(folder_name, url.split('/')[-1]), mode='wb') as file:\n",
    "        file.write(response.content)"
   ]
  },
  {
   "cell_type": "code",
   "execution_count": 5,
   "metadata": {
    "slideshow": {
     "slide_type": "skip"
    }
   },
   "outputs": [],
   "source": [
    "# Go to the folder and unzip the zip files in the folder\n",
    "os.chdir(folder_name)\n",
    "for url in bay_wheels_url:\n",
    "    with zipfile.ZipFile(url.split('/')[-1], 'r') as myzip:\n",
    "        myzip.extractall()"
   ]
  },
  {
   "cell_type": "markdown",
   "metadata": {
    "slideshow": {
     "slide_type": "skip"
    }
   },
   "source": [
    "<a id='assessing-tidi'></a>\n",
    "## 1.2 Data Assessing: Tidiness\n",
    "\n",
    "The data is split into different datasets. Before merging the data, we should make a first assessment of the data by checking whether the columns of the individual datasets differ."
   ]
  },
  {
   "cell_type": "code",
   "execution_count": 6,
   "metadata": {
    "slideshow": {
     "slide_type": "skip"
    }
   },
   "outputs": [],
   "source": [
    "# Create a list of the csv files\n",
    "csv_files = []\n",
    "\n",
    "for elem in bay_wheels_url:\n",
    "    # Select the last part of the url and remove '.zip'\n",
    "    csv_files.append(elem.split('/')[-1][:-4])"
   ]
  },
  {
   "cell_type": "code",
   "execution_count": 7,
   "metadata": {
    "scrolled": true,
    "slideshow": {
     "slide_type": "skip"
    }
   },
   "outputs": [
    {
     "name": "stdout",
     "output_type": "stream",
     "text": [
      "File 1: 2017-fordgobike-tripdata.csv --- Columns: 13\n",
      "['duration_sec', 'start_time', 'end_time', 'start_station_id', 'start_station_name', 'start_station_latitude', 'start_station_longitude', 'end_station_id', 'end_station_name', 'end_station_latitude', 'end_station_longitude', 'bike_id', 'user_type']\n",
      "\n",
      "File 2: 201801-fordgobike-tripdata.csv --- Columns: 14\n",
      "['duration_sec', 'start_time', 'end_time', 'start_station_id', 'start_station_name', 'start_station_latitude', 'start_station_longitude', 'end_station_id', 'end_station_name', 'end_station_latitude', 'end_station_longitude', 'bike_id', 'user_type', 'bike_share_for_all_trip']\n",
      "\n",
      "File 3: 201802-fordgobike-tripdata.csv --- Columns: 14\n",
      "['duration_sec', 'start_time', 'end_time', 'start_station_id', 'start_station_name', 'start_station_latitude', 'start_station_longitude', 'end_station_id', 'end_station_name', 'end_station_latitude', 'end_station_longitude', 'bike_id', 'user_type', 'bike_share_for_all_trip']\n",
      "\n",
      "File 4: 201803-fordgobike-tripdata.csv --- Columns: 14\n",
      "['duration_sec', 'start_time', 'end_time', 'start_station_id', 'start_station_name', 'start_station_latitude', 'start_station_longitude', 'end_station_id', 'end_station_name', 'end_station_latitude', 'end_station_longitude', 'bike_id', 'user_type', 'bike_share_for_all_trip']\n",
      "\n",
      "File 5: 201804-fordgobike-tripdata.csv --- Columns: 14\n",
      "['duration_sec', 'start_time', 'end_time', 'start_station_id', 'start_station_name', 'start_station_latitude', 'start_station_longitude', 'end_station_id', 'end_station_name', 'end_station_latitude', 'end_station_longitude', 'bike_id', 'user_type', 'bike_share_for_all_trip']\n",
      "\n",
      "File 6: 201805-fordgobike-tripdata.csv --- Columns: 14\n",
      "['duration_sec', 'start_time', 'end_time', 'start_station_id', 'start_station_name', 'start_station_latitude', 'start_station_longitude', 'end_station_id', 'end_station_name', 'end_station_latitude', 'end_station_longitude', 'bike_id', 'user_type', 'bike_share_for_all_trip']\n",
      "\n",
      "File 7: 201806-fordgobike-tripdata.csv --- Columns: 14\n",
      "['duration_sec', 'start_time', 'end_time', 'start_station_id', 'start_station_name', 'start_station_latitude', 'start_station_longitude', 'end_station_id', 'end_station_name', 'end_station_latitude', 'end_station_longitude', 'bike_id', 'user_type', 'bike_share_for_all_trip']\n",
      "\n",
      "File 8: 201807-fordgobike-tripdata.csv --- Columns: 14\n",
      "['duration_sec', 'start_time', 'end_time', 'start_station_id', 'start_station_name', 'start_station_latitude', 'start_station_longitude', 'end_station_id', 'end_station_name', 'end_station_latitude', 'end_station_longitude', 'bike_id', 'user_type', 'bike_share_for_all_trip']\n",
      "\n",
      "File 9: 201808-fordgobike-tripdata.csv --- Columns: 14\n",
      "['duration_sec', 'start_time', 'end_time', 'start_station_id', 'start_station_name', 'start_station_latitude', 'start_station_longitude', 'end_station_id', 'end_station_name', 'end_station_latitude', 'end_station_longitude', 'bike_id', 'user_type', 'bike_share_for_all_trip']\n",
      "\n",
      "File 10: 201809-fordgobike-tripdata.csv --- Columns: 14\n",
      "['duration_sec', 'start_time', 'end_time', 'start_station_id', 'start_station_name', 'start_station_latitude', 'start_station_longitude', 'end_station_id', 'end_station_name', 'end_station_latitude', 'end_station_longitude', 'bike_id', 'user_type', 'bike_share_for_all_trip']\n",
      "\n",
      "File 11: 201810-fordgobike-tripdata.csv --- Columns: 14\n",
      "['duration_sec', 'start_time', 'end_time', 'start_station_id', 'start_station_name', 'start_station_latitude', 'start_station_longitude', 'end_station_id', 'end_station_name', 'end_station_latitude', 'end_station_longitude', 'bike_id', 'user_type', 'bike_share_for_all_trip']\n",
      "\n",
      "File 12: 201811-fordgobike-tripdata.csv --- Columns: 14\n",
      "['duration_sec', 'start_time', 'end_time', 'start_station_id', 'start_station_name', 'start_station_latitude', 'start_station_longitude', 'end_station_id', 'end_station_name', 'end_station_latitude', 'end_station_longitude', 'bike_id', 'user_type', 'bike_share_for_all_trip']\n",
      "\n",
      "File 13: 201812-fordgobike-tripdata.csv --- Columns: 14\n",
      "['duration_sec', 'start_time', 'end_time', 'start_station_id', 'start_station_name', 'start_station_latitude', 'start_station_longitude', 'end_station_id', 'end_station_name', 'end_station_latitude', 'end_station_longitude', 'bike_id', 'user_type', 'bike_share_for_all_trip']\n",
      "\n",
      "File 14: 201901-fordgobike-tripdata.csv --- Columns: 14\n",
      "['duration_sec', 'start_time', 'end_time', 'start_station_id', 'start_station_name', 'start_station_latitude', 'start_station_longitude', 'end_station_id', 'end_station_name', 'end_station_latitude', 'end_station_longitude', 'bike_id', 'user_type', 'bike_share_for_all_trip']\n",
      "\n",
      "File 15: 201902-fordgobike-tripdata.csv --- Columns: 14\n",
      "['duration_sec', 'start_time', 'end_time', 'start_station_id', 'start_station_name', 'start_station_latitude', 'start_station_longitude', 'end_station_id', 'end_station_name', 'end_station_latitude', 'end_station_longitude', 'bike_id', 'user_type', 'bike_share_for_all_trip']\n",
      "\n",
      "File 16: 201903-fordgobike-tripdata.csv --- Columns: 14\n",
      "['duration_sec', 'start_time', 'end_time', 'start_station_id', 'start_station_name', 'start_station_latitude', 'start_station_longitude', 'end_station_id', 'end_station_name', 'end_station_latitude', 'end_station_longitude', 'bike_id', 'user_type', 'bike_share_for_all_trip']\n",
      "\n",
      "File 17: 201904-fordgobike-tripdata.csv --- Columns: 14\n",
      "['duration_sec', 'start_time', 'end_time', 'start_station_id', 'start_station_name', 'start_station_latitude', 'start_station_longitude', 'end_station_id', 'end_station_name', 'end_station_latitude', 'end_station_longitude', 'bike_id', 'user_type', 'bike_share_for_all_trip']\n",
      "\n",
      "File 18: 201905-baywheels-tripdata.csv --- Columns: 14\n",
      "['duration_sec', 'start_time', 'end_time', 'start_station_id', 'start_station_name', 'start_station_latitude', 'start_station_longitude', 'end_station_id', 'end_station_name', 'end_station_latitude', 'end_station_longitude', 'bike_id', 'user_type', 'bike_share_for_all_trip']\n",
      "\n",
      "File 19: 201906-baywheels-tripdata.csv --- Columns: 15\n",
      "['duration_sec', 'start_time', 'end_time', 'start_station_id', 'start_station_name', 'start_station_latitude', 'start_station_longitude', 'end_station_id', 'end_station_name', 'end_station_latitude', 'end_station_longitude', 'bike_id', 'user_type', 'bike_share_for_all_trip', 'rental_access_method']\n",
      "\n",
      "File 20: 201907-baywheels-tripdata.csv --- Columns: 15\n",
      "['duration_sec', 'start_time', 'end_time', 'start_station_id', 'start_station_name', 'start_station_latitude', 'start_station_longitude', 'end_station_id', 'end_station_name', 'end_station_latitude', 'end_station_longitude', 'bike_id', 'user_type', 'bike_share_for_all_trip', 'rental_access_method']\n",
      "\n",
      "File 21: 201908-baywheels-tripdata.csv --- Columns: 14\n",
      "['duration_sec', 'start_time', 'end_time', 'start_station_id', 'start_station_name', 'start_station_latitude', 'start_station_longitude', 'end_station_id', 'end_station_name', 'end_station_latitude', 'end_station_longitude', 'bike_id', 'user_type', 'bike_share_for_all_trip']\n",
      "\n",
      "File 22: 201909-baywheels-tripdata.csv --- Columns: 14\n",
      "['duration_sec', 'start_time', 'end_time', 'start_station_id', 'start_station_name', 'start_station_latitude', 'start_station_longitude', 'end_station_id', 'end_station_name', 'end_station_latitude', 'end_station_longitude', 'bike_id', 'user_type', 'bike_share_for_all_trip']\n",
      "\n",
      "File 23: 201910-baywheels-tripdata.csv --- Columns: 14\n",
      "['duration_sec', 'start_time', 'end_time', 'start_station_id', 'start_station_name', 'start_station_latitude', 'start_station_longitude', 'end_station_id', 'end_station_name', 'end_station_latitude', 'end_station_longitude', 'bike_id', 'user_type', 'bike_share_for_all_trip']\n",
      "\n",
      "File 24: 201911-baywheels-tripdata.csv --- Columns: 15\n",
      "['duration_sec', 'start_time', 'end_time', 'start_station_id', 'start_station_name', 'start_station_latitude', 'start_station_longitude', 'end_station_id', 'end_station_name', 'end_station_latitude', 'end_station_longitude', 'bike_id', 'user_type', 'bike_share_for_all_trip', 'rental_access_method']\n",
      "\n",
      "File 25: 201912-baywheels-tripdata.csv --- Columns: 14\n",
      "['duration_sec', 'start_time', 'end_time', 'start_station_id', 'start_station_name', 'start_station_latitude', 'start_station_longitude', 'end_station_id', 'end_station_name', 'end_station_latitude', 'end_station_longitude', 'bike_id', 'user_type', 'rental_access_method']\n",
      "\n",
      "File 26: 202001-baywheels-tripdata.csv --- Columns: 14\n",
      "['duration_sec', 'start_time', 'end_time', 'start_station_id', 'start_station_name', 'start_station_latitude', 'start_station_longitude', 'end_station_id', 'end_station_name', 'end_station_latitude', 'end_station_longitude', 'bike_id', 'user_type', 'rental_access_method']\n",
      "\n",
      "File 27: 202002-baywheels-tripdata.csv --- Columns: 14\n",
      "['duration_sec', 'start_time', 'end_time', 'start_station_id', 'start_station_name', 'start_station_latitude', 'start_station_longitude', 'end_station_id', 'end_station_name', 'end_station_latitude', 'end_station_longitude', 'bike_id', 'user_type', 'rental_access_method']\n",
      "\n",
      "File 28: 202003-baywheels-tripdata.csv --- Columns: 14\n",
      "['duration_sec', 'start_time', 'end_time', 'start_station_id', 'start_station_name', 'start_station_latitude', 'start_station_longitude', 'end_station_id', 'end_station_name', 'end_station_latitude', 'end_station_longitude', 'bike_id', 'user_type', 'rental_access_method']\n",
      "\n",
      "File 29: 202004-baywheels-tripdata.csv --- Columns: 13\n",
      "['ride_id', 'rideable_type', 'started_at', 'ended_at', 'start_station_name', 'start_station_id', 'end_station_name', 'end_station_id', 'start_lat', 'start_lng', 'end_lat', 'end_lng', 'member_casual']\n",
      "\n",
      "File 30: 202005-baywheels-tripdata.csv --- Columns: 14\n",
      "['ride_id', 'rideable_type', 'started_at', 'ended_at', 'start_station_name', 'start_station_id', 'end_station_name', 'end_station_id', 'start_lat', 'start_lng', 'end_lat', 'end_lng', 'member_casual', 'is_equity']\n",
      "\n",
      "File 31: 202006-baywheels-tripdata.csv --- Columns: 13\n",
      "['ride_id', 'rideable_type', 'started_at', 'ended_at', 'start_station_name', 'start_station_id', 'end_station_name', 'end_station_id', 'start_lat', 'start_lng', 'end_lat', 'end_lng', 'member_casual']\n",
      "\n"
     ]
    }
   ],
   "source": [
    "# List name, number of columns and columns of every file\n",
    "i = 1\n",
    "for file in csv_files:\n",
    "    df = pd.read_csv(file)\n",
    "    print('File {0}: {1} --- Columns: {2}'.format(i, file, len(df.columns)))\n",
    "    print(list(df.columns))\n",
    "    print('')\n",
    "    i = i + 1"
   ]
  },
  {
   "cell_type": "markdown",
   "metadata": {
    "slideshow": {
     "slide_type": "skip"
    }
   },
   "source": [
    "**Findings:**\n",
    "\n",
    "- The datasets have 13 to 15 columns.\n",
    "- The last three files `202004-baywheels-tripdata.csv`, `202005-baywheels-tripdata.csv` and `202006-baywheels-tripdata.csv` have **different column names** than the others.\n",
    "- Some columns contain similar information, e.g. *start_time* appears as *started_at* or *start_station_latitude* as *start_lat*.\n",
    "- The remaining datasets have the **same columns names**, except for *rental_access_method* and *bike_share_for_all_trip*."
   ]
  },
  {
   "cell_type": "markdown",
   "metadata": {
    "slideshow": {
     "slide_type": "skip"
    }
   },
   "source": [
    "<a id='cleaning-tidi'></a>\n",
    "## 1.3 Data Cleaning: Tidiness"
   ]
  },
  {
   "cell_type": "markdown",
   "metadata": {
    "slideshow": {
     "slide_type": "skip"
    }
   },
   "source": [
    "**Define**\n",
    "\n",
    "Put the files except for the last three files into a dataframe `df_bike` using `pd.read_csv()` and `pd.concat()`.\n",
    "\n",
    "**Code**"
   ]
  },
  {
   "cell_type": "code",
   "execution_count": 8,
   "metadata": {
    "slideshow": {
     "slide_type": "skip"
    }
   },
   "outputs": [],
   "source": [
    "# Concat the files for all files in csv_files except for the last three\n",
    "df_bike = pd.concat((pd.read_csv(file) for file in csv_files[:len(csv_files)-3]))"
   ]
  },
  {
   "cell_type": "markdown",
   "metadata": {
    "slideshow": {
     "slide_type": "skip"
    }
   },
   "source": [
    "**Test**"
   ]
  },
  {
   "cell_type": "code",
   "execution_count": 9,
   "metadata": {
    "slideshow": {
     "slide_type": "skip"
    }
   },
   "outputs": [
    {
     "data": {
      "text/plain": [
       "(5795411, 15)"
      ]
     },
     "execution_count": 9,
     "metadata": {},
     "output_type": "execute_result"
    }
   ],
   "source": [
    "# Number of bike rentals in 2019 and number of columns\n",
    "df_bike.shape"
   ]
  },
  {
   "cell_type": "code",
   "execution_count": 10,
   "metadata": {
    "slideshow": {
     "slide_type": "skip"
    }
   },
   "outputs": [
    {
     "data": {
      "text/html": [
       "<div>\n",
       "<style scoped>\n",
       "    .dataframe tbody tr th:only-of-type {\n",
       "        vertical-align: middle;\n",
       "    }\n",
       "\n",
       "    .dataframe tbody tr th {\n",
       "        vertical-align: top;\n",
       "    }\n",
       "\n",
       "    .dataframe thead th {\n",
       "        text-align: right;\n",
       "    }\n",
       "</style>\n",
       "<table border=\"1\" class=\"dataframe\">\n",
       "  <thead>\n",
       "    <tr style=\"text-align: right;\">\n",
       "      <th></th>\n",
       "      <th>duration_sec</th>\n",
       "      <th>start_time</th>\n",
       "      <th>end_time</th>\n",
       "      <th>start_station_id</th>\n",
       "      <th>start_station_name</th>\n",
       "      <th>start_station_latitude</th>\n",
       "      <th>start_station_longitude</th>\n",
       "      <th>end_station_id</th>\n",
       "      <th>end_station_name</th>\n",
       "      <th>end_station_latitude</th>\n",
       "      <th>end_station_longitude</th>\n",
       "      <th>bike_id</th>\n",
       "      <th>user_type</th>\n",
       "      <th>bike_share_for_all_trip</th>\n",
       "      <th>rental_access_method</th>\n",
       "    </tr>\n",
       "  </thead>\n",
       "  <tbody>\n",
       "    <tr>\n",
       "      <th>0</th>\n",
       "      <td>80110</td>\n",
       "      <td>2017-12-31 16:57:39.6540</td>\n",
       "      <td>2018-01-01 15:12:50.2450</td>\n",
       "      <td>74.0</td>\n",
       "      <td>Laguna St at Hayes St</td>\n",
       "      <td>37.776435</td>\n",
       "      <td>-122.426244</td>\n",
       "      <td>43.0</td>\n",
       "      <td>San Francisco Public Library (Grove St at Hyde...</td>\n",
       "      <td>37.778768</td>\n",
       "      <td>-122.415929</td>\n",
       "      <td>96</td>\n",
       "      <td>Customer</td>\n",
       "      <td>NaN</td>\n",
       "      <td>NaN</td>\n",
       "    </tr>\n",
       "    <tr>\n",
       "      <th>1</th>\n",
       "      <td>78800</td>\n",
       "      <td>2017-12-31 15:56:34.8420</td>\n",
       "      <td>2018-01-01 13:49:55.6170</td>\n",
       "      <td>284.0</td>\n",
       "      <td>Yerba Buena Center for the Arts (Howard St at ...</td>\n",
       "      <td>37.784872</td>\n",
       "      <td>-122.400876</td>\n",
       "      <td>96.0</td>\n",
       "      <td>Dolores St at 15th St</td>\n",
       "      <td>37.766210</td>\n",
       "      <td>-122.426614</td>\n",
       "      <td>88</td>\n",
       "      <td>Customer</td>\n",
       "      <td>NaN</td>\n",
       "      <td>NaN</td>\n",
       "    </tr>\n",
       "    <tr>\n",
       "      <th>2</th>\n",
       "      <td>45768</td>\n",
       "      <td>2017-12-31 22:45:48.4110</td>\n",
       "      <td>2018-01-01 11:28:36.8830</td>\n",
       "      <td>245.0</td>\n",
       "      <td>Downtown Berkeley BART</td>\n",
       "      <td>37.870348</td>\n",
       "      <td>-122.267764</td>\n",
       "      <td>245.0</td>\n",
       "      <td>Downtown Berkeley BART</td>\n",
       "      <td>37.870348</td>\n",
       "      <td>-122.267764</td>\n",
       "      <td>1094</td>\n",
       "      <td>Customer</td>\n",
       "      <td>NaN</td>\n",
       "      <td>NaN</td>\n",
       "    </tr>\n",
       "    <tr>\n",
       "      <th>3</th>\n",
       "      <td>62172</td>\n",
       "      <td>2017-12-31 17:31:10.6360</td>\n",
       "      <td>2018-01-01 10:47:23.5310</td>\n",
       "      <td>60.0</td>\n",
       "      <td>8th St at Ringold St</td>\n",
       "      <td>37.774520</td>\n",
       "      <td>-122.409449</td>\n",
       "      <td>5.0</td>\n",
       "      <td>Powell St BART Station (Market St at 5th St)</td>\n",
       "      <td>37.783899</td>\n",
       "      <td>-122.408445</td>\n",
       "      <td>2831</td>\n",
       "      <td>Customer</td>\n",
       "      <td>NaN</td>\n",
       "      <td>NaN</td>\n",
       "    </tr>\n",
       "    <tr>\n",
       "      <th>4</th>\n",
       "      <td>43603</td>\n",
       "      <td>2017-12-31 14:23:14.0010</td>\n",
       "      <td>2018-01-01 02:29:57.5710</td>\n",
       "      <td>239.0</td>\n",
       "      <td>Bancroft Way at Telegraph Ave</td>\n",
       "      <td>37.868813</td>\n",
       "      <td>-122.258764</td>\n",
       "      <td>247.0</td>\n",
       "      <td>Fulton St at Bancroft Way</td>\n",
       "      <td>37.867789</td>\n",
       "      <td>-122.265896</td>\n",
       "      <td>3167</td>\n",
       "      <td>Subscriber</td>\n",
       "      <td>NaN</td>\n",
       "      <td>NaN</td>\n",
       "    </tr>\n",
       "  </tbody>\n",
       "</table>\n",
       "</div>"
      ],
      "text/plain": [
       "   duration_sec                start_time                  end_time  \\\n",
       "0         80110  2017-12-31 16:57:39.6540  2018-01-01 15:12:50.2450   \n",
       "1         78800  2017-12-31 15:56:34.8420  2018-01-01 13:49:55.6170   \n",
       "2         45768  2017-12-31 22:45:48.4110  2018-01-01 11:28:36.8830   \n",
       "3         62172  2017-12-31 17:31:10.6360  2018-01-01 10:47:23.5310   \n",
       "4         43603  2017-12-31 14:23:14.0010  2018-01-01 02:29:57.5710   \n",
       "\n",
       "   start_station_id                                 start_station_name  \\\n",
       "0              74.0                              Laguna St at Hayes St   \n",
       "1             284.0  Yerba Buena Center for the Arts (Howard St at ...   \n",
       "2             245.0                             Downtown Berkeley BART   \n",
       "3              60.0                               8th St at Ringold St   \n",
       "4             239.0                      Bancroft Way at Telegraph Ave   \n",
       "\n",
       "   start_station_latitude  start_station_longitude  end_station_id  \\\n",
       "0               37.776435              -122.426244            43.0   \n",
       "1               37.784872              -122.400876            96.0   \n",
       "2               37.870348              -122.267764           245.0   \n",
       "3               37.774520              -122.409449             5.0   \n",
       "4               37.868813              -122.258764           247.0   \n",
       "\n",
       "                                    end_station_name  end_station_latitude  \\\n",
       "0  San Francisco Public Library (Grove St at Hyde...             37.778768   \n",
       "1                              Dolores St at 15th St             37.766210   \n",
       "2                             Downtown Berkeley BART             37.870348   \n",
       "3       Powell St BART Station (Market St at 5th St)             37.783899   \n",
       "4                          Fulton St at Bancroft Way             37.867789   \n",
       "\n",
       "   end_station_longitude  bike_id   user_type bike_share_for_all_trip  \\\n",
       "0            -122.415929       96    Customer                     NaN   \n",
       "1            -122.426614       88    Customer                     NaN   \n",
       "2            -122.267764     1094    Customer                     NaN   \n",
       "3            -122.408445     2831    Customer                     NaN   \n",
       "4            -122.265896     3167  Subscriber                     NaN   \n",
       "\n",
       "  rental_access_method  \n",
       "0                  NaN  \n",
       "1                  NaN  \n",
       "2                  NaN  \n",
       "3                  NaN  \n",
       "4                  NaN  "
      ]
     },
     "execution_count": 10,
     "metadata": {},
     "output_type": "execute_result"
    }
   ],
   "source": [
    "df_bike.head()"
   ]
  },
  {
   "cell_type": "markdown",
   "metadata": {
    "slideshow": {
     "slide_type": "skip"
    }
   },
   "source": [
    "<a id='assessing-qual'></a>\n",
    "## 1.4 Data Assessing: Quality"
   ]
  },
  {
   "cell_type": "markdown",
   "metadata": {
    "slideshow": {
     "slide_type": "skip"
    }
   },
   "source": [
    "### Duplicated values"
   ]
  },
  {
   "cell_type": "code",
   "execution_count": 11,
   "metadata": {
    "slideshow": {
     "slide_type": "skip"
    }
   },
   "outputs": [
    {
     "data": {
      "text/plain": [
       "7512"
      ]
     },
     "execution_count": 11,
     "metadata": {},
     "output_type": "execute_result"
    }
   ],
   "source": [
    "df_bike.duplicated().sum()"
   ]
  },
  {
   "cell_type": "markdown",
   "metadata": {
    "slideshow": {
     "slide_type": "skip"
    }
   },
   "source": [
    "### Missing values and data types"
   ]
  },
  {
   "cell_type": "code",
   "execution_count": 12,
   "metadata": {
    "slideshow": {
     "slide_type": "skip"
    }
   },
   "outputs": [
    {
     "name": "stdout",
     "output_type": "stream",
     "text": [
      "<class 'pandas.core.frame.DataFrame'>\n",
      "Int64Index: 5795411 entries, 0 to 176798\n",
      "Data columns (total 15 columns):\n",
      " #   Column                   Non-Null Count    Dtype  \n",
      "---  ------                   --------------    -----  \n",
      " 0   duration_sec             5795411 non-null  int64  \n",
      " 1   start_time               5795411 non-null  object \n",
      " 2   end_time                 5795411 non-null  object \n",
      " 3   start_station_id         5216604 non-null  float64\n",
      " 4   start_station_name       5218438 non-null  object \n",
      " 5   start_station_latitude   5795411 non-null  float64\n",
      " 6   start_station_longitude  5795411 non-null  float64\n",
      " 7   end_station_id           5214956 non-null  float64\n",
      " 8   end_station_name         5216782 non-null  object \n",
      " 9   end_station_latitude     5795411 non-null  float64\n",
      " 10  end_station_longitude    5795411 non-null  float64\n",
      " 11  bike_id                  5795411 non-null  int64  \n",
      " 12  user_type                5795411 non-null  object \n",
      " 13  bike_share_for_all_trip  4127445 non-null  object \n",
      " 14  rental_access_method     738696 non-null   object \n",
      "dtypes: float64(6), int64(2), object(7)\n",
      "memory usage: 707.4+ MB\n"
     ]
    }
   ],
   "source": [
    "df_bike.info(null_counts=True)"
   ]
  },
  {
   "cell_type": "markdown",
   "metadata": {
    "slideshow": {
     "slide_type": "skip"
    }
   },
   "source": [
    "### Summarized findings\n",
    "\n",
    "\n",
    "**Duplicated values:**\n",
    "\n",
    "\n",
    "1. There are duplicated values in `df_bike`.\n",
    "\n",
    "\n",
    "**Missing values:**\n",
    "\n",
    "\n",
    "2. Missing values in *rental_access_method*.\n",
    "3. Missing values in *bike_share_for_all_trip*.\n",
    "4.  Missing values in *start_station_id*, *start_station_name*, *end_station_id* and *end_station_name*.\n",
    "\n",
    "\n",
    "**Date types:**\n",
    "\n",
    "\n",
    "5. Date columns *start_time* and *end_time* have data type 'object'.\n",
    "6. Integer columns *start_station_id* and *end_station_id* have data type 'float'."
   ]
  },
  {
   "cell_type": "markdown",
   "metadata": {
    "slideshow": {
     "slide_type": "skip"
    }
   },
   "source": [
    "<a id='cleaning-qual'></a>\n",
    "## 1.5 Data Cleaning: Quality"
   ]
  },
  {
   "cell_type": "code",
   "execution_count": 13,
   "metadata": {
    "slideshow": {
     "slide_type": "skip"
    }
   },
   "outputs": [],
   "source": [
    "# Create a copy of df_bike\n",
    "df_clean = df_bike.copy()"
   ]
  },
  {
   "cell_type": "markdown",
   "metadata": {
    "slideshow": {
     "slide_type": "skip"
    }
   },
   "source": [
    "### Duplicated values\n",
    "\n",
    "**1. There are duplicated values in `df_bike`.**\n",
    "\n",
    "**Define**\n",
    "\n",
    "Drop duplicated values using `pd.DataFrame.drop_duplicates()`.\n",
    "\n",
    "**Code**"
   ]
  },
  {
   "cell_type": "code",
   "execution_count": 14,
   "metadata": {
    "slideshow": {
     "slide_type": "skip"
    }
   },
   "outputs": [],
   "source": [
    "df_clean = df_clean.drop_duplicates()"
   ]
  },
  {
   "cell_type": "markdown",
   "metadata": {
    "slideshow": {
     "slide_type": "skip"
    }
   },
   "source": [
    "**Test**"
   ]
  },
  {
   "cell_type": "code",
   "execution_count": 15,
   "metadata": {
    "slideshow": {
     "slide_type": "skip"
    }
   },
   "outputs": [
    {
     "data": {
      "text/plain": [
       "7512"
      ]
     },
     "execution_count": 15,
     "metadata": {},
     "output_type": "execute_result"
    }
   ],
   "source": [
    "# Number of dropped values\n",
    "len(df_bike)-len(df_clean)"
   ]
  },
  {
   "cell_type": "markdown",
   "metadata": {
    "slideshow": {
     "slide_type": "skip"
    }
   },
   "source": [
    "### Missing values"
   ]
  },
  {
   "cell_type": "code",
   "execution_count": 16,
   "metadata": {
    "scrolled": false,
    "slideshow": {
     "slide_type": "skip"
    }
   },
   "outputs": [
    {
     "name": "stdout",
     "output_type": "stream",
     "text": [
      "<class 'pandas.core.frame.DataFrame'>\n",
      "Int64Index: 5787899 entries, 0 to 176798\n",
      "Data columns (total 15 columns):\n",
      " #   Column                   Non-Null Count    Dtype  \n",
      "---  ------                   --------------    -----  \n",
      " 0   duration_sec             5787899 non-null  int64  \n",
      " 1   start_time               5787899 non-null  object \n",
      " 2   end_time                 5787899 non-null  object \n",
      " 3   start_station_id         5215458 non-null  float64\n",
      " 4   start_station_name       5217292 non-null  object \n",
      " 5   start_station_latitude   5787899 non-null  float64\n",
      " 6   start_station_longitude  5787899 non-null  float64\n",
      " 7   end_station_id           5213803 non-null  float64\n",
      " 8   end_station_name         5215629 non-null  object \n",
      " 9   end_station_latitude     5787899 non-null  float64\n",
      " 10  end_station_longitude    5787899 non-null  float64\n",
      " 11  bike_id                  5787899 non-null  int64  \n",
      " 12  user_type                5787899 non-null  object \n",
      " 13  bike_share_for_all_trip  4127445 non-null  object \n",
      " 14  rental_access_method     731184 non-null   object \n",
      "dtypes: float64(6), int64(2), object(7)\n",
      "memory usage: 706.5+ MB\n"
     ]
    }
   ],
   "source": [
    "df_clean.info(null_counts=True)"
   ]
  },
  {
   "cell_type": "markdown",
   "metadata": {
    "slideshow": {
     "slide_type": "skip"
    }
   },
   "source": [
    "**2. Missing values in *rental_access_method*.**\n",
    "\n",
    "- There are only 731,184 non-null values in *rental_access_method*. As shown earlier, *rental_access_method* exists only in some of the csv files.\n",
    "\n",
    "**Define**\n",
    "\n",
    "Drop the column from `df_clean`.\n",
    "\n",
    "**Code**"
   ]
  },
  {
   "cell_type": "code",
   "execution_count": 17,
   "metadata": {
    "slideshow": {
     "slide_type": "skip"
    }
   },
   "outputs": [],
   "source": [
    "df_clean = df_clean.drop(['rental_access_method'], axis=1)"
   ]
  },
  {
   "cell_type": "markdown",
   "metadata": {
    "slideshow": {
     "slide_type": "skip"
    }
   },
   "source": [
    "**Test**"
   ]
  },
  {
   "cell_type": "code",
   "execution_count": 18,
   "metadata": {
    "slideshow": {
     "slide_type": "skip"
    }
   },
   "outputs": [
    {
     "data": {
      "text/plain": [
       "['duration_sec',\n",
       " 'start_time',\n",
       " 'end_time',\n",
       " 'start_station_id',\n",
       " 'start_station_name',\n",
       " 'start_station_latitude',\n",
       " 'start_station_longitude',\n",
       " 'end_station_id',\n",
       " 'end_station_name',\n",
       " 'end_station_latitude',\n",
       " 'end_station_longitude',\n",
       " 'bike_id',\n",
       " 'user_type',\n",
       " 'bike_share_for_all_trip']"
      ]
     },
     "execution_count": 18,
     "metadata": {},
     "output_type": "execute_result"
    }
   ],
   "source": [
    "list(df_clean.columns)"
   ]
  },
  {
   "cell_type": "markdown",
   "metadata": {
    "slideshow": {
     "slide_type": "skip"
    }
   },
   "source": [
    "**3. Missing values in *bike_share_for_all_trip*.**"
   ]
  },
  {
   "cell_type": "markdown",
   "metadata": {
    "slideshow": {
     "slide_type": "skip"
    }
   },
   "source": [
    "- There are over 4,000,000 valid observations in *bike_share_for_all_trip*."
   ]
  },
  {
   "cell_type": "code",
   "execution_count": 19,
   "metadata": {
    "slideshow": {
     "slide_type": "skip"
    }
   },
   "outputs": [
    {
     "data": {
      "text/plain": [
       "No     3787538\n",
       "Yes     339907\n",
       "Name: bike_share_for_all_trip, dtype: int64"
      ]
     },
     "execution_count": 19,
     "metadata": {},
     "output_type": "execute_result"
    }
   ],
   "source": [
    "df_clean['bike_share_for_all_trip'].value_counts()"
   ]
  },
  {
   "cell_type": "code",
   "execution_count": 20,
   "metadata": {
    "slideshow": {
     "slide_type": "skip"
    }
   },
   "outputs": [],
   "source": [
    "# Extract year, month, week, day, weekday, hour from date to be able to group by\n",
    "df_clean['year'] = pd.DatetimeIndex(df_clean['start_time']).year\n",
    "df_clean['month'] = pd.DatetimeIndex(df_clean['start_time']).month\n",
    "df_clean['week'] = pd.DatetimeIndex(df_clean['start_time']).week\n",
    "df_clean['day'] = pd.DatetimeIndex(df_clean['start_time']).day\n",
    "df_clean['hour'] = pd.DatetimeIndex(df_clean['start_time']).hour\n",
    "\n",
    "# The week starts on Monday, which is denoted by 0 and ends on Sunday which is denoted by 6\n",
    "df_clean['weekday'] = pd.DatetimeIndex(df_clean['start_time']).weekday\n",
    "df_clean['weekday'] = df_clean['weekday'].replace({0: 'Monday',\n",
    "                                                   1: 'Tuesday',\n",
    "                                                   2: 'Wednesday',\n",
    "                                                   3: 'Thursday',\n",
    "                                                   4: 'Friday',\n",
    "                                                   5: 'Saturday',\n",
    "                                                   6: 'Sunday'})\n",
    "\n",
    "# Convert weekday to ordinal type\n",
    "ordered_var = pd.api.types.CategoricalDtype(categories=['Monday', 'Tuesday', 'Wednesday',\n",
    "                                                        'Thursday', 'Friday', 'Saturday',\n",
    "                                                        'Sunday'], ordered=True)\n",
    "df_clean['weekday'] = df_clean['weekday'].astype(ordered_var)"
   ]
  },
  {
   "cell_type": "markdown",
   "metadata": {
    "slideshow": {
     "slide_type": "skip"
    }
   },
   "source": [
    "- As seen earlier, *bike_share_for_all_trip* data is available only **between January 2018 and November 2019**, with some missing values in these months (see output below)."
   ]
  },
  {
   "cell_type": "code",
   "execution_count": 21,
   "metadata": {
    "slideshow": {
     "slide_type": "skip"
    }
   },
   "outputs": [
    {
     "data": {
      "text/html": [
       "<div>\n",
       "<style scoped>\n",
       "    .dataframe tbody tr th:only-of-type {\n",
       "        vertical-align: middle;\n",
       "    }\n",
       "\n",
       "    .dataframe tbody tr th {\n",
       "        vertical-align: top;\n",
       "    }\n",
       "\n",
       "    .dataframe thead th {\n",
       "        text-align: right;\n",
       "    }\n",
       "</style>\n",
       "<table border=\"1\" class=\"dataframe\">\n",
       "  <thead>\n",
       "    <tr style=\"text-align: right;\">\n",
       "      <th></th>\n",
       "      <th>year</th>\n",
       "      <th>month</th>\n",
       "      <th>bike_share_for_all_trip</th>\n",
       "    </tr>\n",
       "  </thead>\n",
       "  <tbody>\n",
       "    <tr>\n",
       "      <th>0</th>\n",
       "      <td>2017</td>\n",
       "      <td>6</td>\n",
       "      <td>2689</td>\n",
       "    </tr>\n",
       "    <tr>\n",
       "      <th>1</th>\n",
       "      <td>2017</td>\n",
       "      <td>7</td>\n",
       "      <td>44073</td>\n",
       "    </tr>\n",
       "    <tr>\n",
       "      <th>2</th>\n",
       "      <td>2017</td>\n",
       "      <td>8</td>\n",
       "      <td>83292</td>\n",
       "    </tr>\n",
       "    <tr>\n",
       "      <th>3</th>\n",
       "      <td>2017</td>\n",
       "      <td>9</td>\n",
       "      <td>98558</td>\n",
       "    </tr>\n",
       "    <tr>\n",
       "      <th>4</th>\n",
       "      <td>2017</td>\n",
       "      <td>10</td>\n",
       "      <td>108937</td>\n",
       "    </tr>\n",
       "    <tr>\n",
       "      <th>5</th>\n",
       "      <td>2017</td>\n",
       "      <td>11</td>\n",
       "      <td>95612</td>\n",
       "    </tr>\n",
       "    <tr>\n",
       "      <th>6</th>\n",
       "      <td>2017</td>\n",
       "      <td>12</td>\n",
       "      <td>86539</td>\n",
       "    </tr>\n",
       "    <tr>\n",
       "      <th>7</th>\n",
       "      <td>2018</td>\n",
       "      <td>1</td>\n",
       "      <td>0</td>\n",
       "    </tr>\n",
       "    <tr>\n",
       "      <th>8</th>\n",
       "      <td>2018</td>\n",
       "      <td>2</td>\n",
       "      <td>0</td>\n",
       "    </tr>\n",
       "    <tr>\n",
       "      <th>9</th>\n",
       "      <td>2018</td>\n",
       "      <td>3</td>\n",
       "      <td>0</td>\n",
       "    </tr>\n",
       "    <tr>\n",
       "      <th>10</th>\n",
       "      <td>2018</td>\n",
       "      <td>4</td>\n",
       "      <td>0</td>\n",
       "    </tr>\n",
       "    <tr>\n",
       "      <th>11</th>\n",
       "      <td>2018</td>\n",
       "      <td>5</td>\n",
       "      <td>0</td>\n",
       "    </tr>\n",
       "    <tr>\n",
       "      <th>12</th>\n",
       "      <td>2018</td>\n",
       "      <td>6</td>\n",
       "      <td>0</td>\n",
       "    </tr>\n",
       "    <tr>\n",
       "      <th>13</th>\n",
       "      <td>2018</td>\n",
       "      <td>7</td>\n",
       "      <td>0</td>\n",
       "    </tr>\n",
       "    <tr>\n",
       "      <th>14</th>\n",
       "      <td>2018</td>\n",
       "      <td>8</td>\n",
       "      <td>0</td>\n",
       "    </tr>\n",
       "    <tr>\n",
       "      <th>15</th>\n",
       "      <td>2018</td>\n",
       "      <td>9</td>\n",
       "      <td>0</td>\n",
       "    </tr>\n",
       "    <tr>\n",
       "      <th>16</th>\n",
       "      <td>2018</td>\n",
       "      <td>10</td>\n",
       "      <td>0</td>\n",
       "    </tr>\n",
       "    <tr>\n",
       "      <th>17</th>\n",
       "      <td>2018</td>\n",
       "      <td>11</td>\n",
       "      <td>0</td>\n",
       "    </tr>\n",
       "    <tr>\n",
       "      <th>18</th>\n",
       "      <td>2018</td>\n",
       "      <td>12</td>\n",
       "      <td>0</td>\n",
       "    </tr>\n",
       "    <tr>\n",
       "      <th>19</th>\n",
       "      <td>2019</td>\n",
       "      <td>1</td>\n",
       "      <td>0</td>\n",
       "    </tr>\n",
       "    <tr>\n",
       "      <th>20</th>\n",
       "      <td>2019</td>\n",
       "      <td>2</td>\n",
       "      <td>0</td>\n",
       "    </tr>\n",
       "    <tr>\n",
       "      <th>21</th>\n",
       "      <td>2019</td>\n",
       "      <td>3</td>\n",
       "      <td>0</td>\n",
       "    </tr>\n",
       "    <tr>\n",
       "      <th>22</th>\n",
       "      <td>2019</td>\n",
       "      <td>4</td>\n",
       "      <td>0</td>\n",
       "    </tr>\n",
       "    <tr>\n",
       "      <th>23</th>\n",
       "      <td>2019</td>\n",
       "      <td>5</td>\n",
       "      <td>0</td>\n",
       "    </tr>\n",
       "    <tr>\n",
       "      <th>24</th>\n",
       "      <td>2019</td>\n",
       "      <td>6</td>\n",
       "      <td>3893</td>\n",
       "    </tr>\n",
       "    <tr>\n",
       "      <th>25</th>\n",
       "      <td>2019</td>\n",
       "      <td>7</td>\n",
       "      <td>87854</td>\n",
       "    </tr>\n",
       "    <tr>\n",
       "      <th>26</th>\n",
       "      <td>2019</td>\n",
       "      <td>8</td>\n",
       "      <td>0</td>\n",
       "    </tr>\n",
       "    <tr>\n",
       "      <th>27</th>\n",
       "      <td>2019</td>\n",
       "      <td>9</td>\n",
       "      <td>0</td>\n",
       "    </tr>\n",
       "    <tr>\n",
       "      <th>28</th>\n",
       "      <td>2019</td>\n",
       "      <td>10</td>\n",
       "      <td>0</td>\n",
       "    </tr>\n",
       "    <tr>\n",
       "      <th>29</th>\n",
       "      <td>2019</td>\n",
       "      <td>11</td>\n",
       "      <td>1410</td>\n",
       "    </tr>\n",
       "    <tr>\n",
       "      <th>30</th>\n",
       "      <td>2019</td>\n",
       "      <td>12</td>\n",
       "      <td>150102</td>\n",
       "    </tr>\n",
       "    <tr>\n",
       "      <th>31</th>\n",
       "      <td>2020</td>\n",
       "      <td>1</td>\n",
       "      <td>295854</td>\n",
       "    </tr>\n",
       "    <tr>\n",
       "      <th>32</th>\n",
       "      <td>2020</td>\n",
       "      <td>2</td>\n",
       "      <td>424789</td>\n",
       "    </tr>\n",
       "    <tr>\n",
       "      <th>33</th>\n",
       "      <td>2020</td>\n",
       "      <td>3</td>\n",
       "      <td>175120</td>\n",
       "    </tr>\n",
       "    <tr>\n",
       "      <th>34</th>\n",
       "      <td>2020</td>\n",
       "      <td>4</td>\n",
       "      <td>1732</td>\n",
       "    </tr>\n",
       "  </tbody>\n",
       "</table>\n",
       "</div>"
      ],
      "text/plain": [
       "    year  month  bike_share_for_all_trip\n",
       "0   2017      6                     2689\n",
       "1   2017      7                    44073\n",
       "2   2017      8                    83292\n",
       "3   2017      9                    98558\n",
       "4   2017     10                   108937\n",
       "5   2017     11                    95612\n",
       "6   2017     12                    86539\n",
       "7   2018      1                        0\n",
       "8   2018      2                        0\n",
       "9   2018      3                        0\n",
       "10  2018      4                        0\n",
       "11  2018      5                        0\n",
       "12  2018      6                        0\n",
       "13  2018      7                        0\n",
       "14  2018      8                        0\n",
       "15  2018      9                        0\n",
       "16  2018     10                        0\n",
       "17  2018     11                        0\n",
       "18  2018     12                        0\n",
       "19  2019      1                        0\n",
       "20  2019      2                        0\n",
       "21  2019      3                        0\n",
       "22  2019      4                        0\n",
       "23  2019      5                        0\n",
       "24  2019      6                     3893\n",
       "25  2019      7                    87854\n",
       "26  2019      8                        0\n",
       "27  2019      9                        0\n",
       "28  2019     10                        0\n",
       "29  2019     11                     1410\n",
       "30  2019     12                   150102\n",
       "31  2020      1                   295854\n",
       "32  2020      2                   424789\n",
       "33  2020      3                   175120\n",
       "34  2020      4                     1732"
      ]
     },
     "execution_count": 21,
     "metadata": {},
     "output_type": "execute_result"
    }
   ],
   "source": [
    "# Number of missing values in bike_share_for_all_trip grouped by year and month\n",
    "df_clean['bike_share_for_all_trip'].isnull().groupby(\n",
    "    [df_clean['year'], df_clean['month']]).sum().astype(int).reset_index(\n",
    "    name='bike_share_for_all_trip')"
   ]
  },
  {
   "cell_type": "markdown",
   "metadata": {
    "slideshow": {
     "slide_type": "skip"
    }
   },
   "source": [
    "**Define**\n",
    "\n",
    "Keep *bike_share_for_all_trip* and do not replace the missing values. Note: When drawing conclusions using *bike_share_for_all_trip*, we should keep in mind that the conclusions don't address the entire time frame."
   ]
  },
  {
   "cell_type": "markdown",
   "metadata": {
    "slideshow": {
     "slide_type": "skip"
    }
   },
   "source": [
    "**4. Missing values in *start_station_id*, *start_station_name*, *end_station_id* and *end_station_name*.**"
   ]
  },
  {
   "cell_type": "markdown",
   "metadata": {
    "slideshow": {
     "slide_type": "skip"
    }
   },
   "source": [
    "- The number of missing values in *start_station_id*, *start_station_name*, *end_station_id* and *end_station_name* is very similar."
   ]
  },
  {
   "cell_type": "code",
   "execution_count": 22,
   "metadata": {
    "slideshow": {
     "slide_type": "skip"
    }
   },
   "outputs": [
    {
     "name": "stdout",
     "output_type": "stream",
     "text": [
      "start_station_id: 572441\n",
      "start_station_name: 570607\n",
      "end_station_id: 574096\n",
      "end_station_name: 572270\n"
     ]
    }
   ],
   "source": [
    "for column in ['start_station_id', 'start_station_name', 'end_station_id', 'end_station_name']:\n",
    "    print(column+':', df_clean[column].isna().sum())"
   ]
  },
  {
   "cell_type": "markdown",
   "metadata": {
    "slideshow": {
     "slide_type": "skip"
    }
   },
   "source": [
    "- Maybe the missing values come from only one file, i.e. from one month?"
   ]
  },
  {
   "cell_type": "code",
   "execution_count": 23,
   "metadata": {
    "slideshow": {
     "slide_type": "skip"
    }
   },
   "outputs": [
    {
     "data": {
      "text/html": [
       "<div>\n",
       "<style scoped>\n",
       "    .dataframe tbody tr th:only-of-type {\n",
       "        vertical-align: middle;\n",
       "    }\n",
       "\n",
       "    .dataframe tbody tr th {\n",
       "        vertical-align: top;\n",
       "    }\n",
       "\n",
       "    .dataframe thead th {\n",
       "        text-align: right;\n",
       "    }\n",
       "</style>\n",
       "<table border=\"1\" class=\"dataframe\">\n",
       "  <thead>\n",
       "    <tr style=\"text-align: right;\">\n",
       "      <th></th>\n",
       "      <th>year</th>\n",
       "      <th>month</th>\n",
       "      <th>start_station_id</th>\n",
       "      <th>start_station_name</th>\n",
       "      <th>end_station_id</th>\n",
       "      <th>end_station_name</th>\n",
       "    </tr>\n",
       "  </thead>\n",
       "  <tbody>\n",
       "    <tr>\n",
       "      <th>0</th>\n",
       "      <td>2017</td>\n",
       "      <td>6</td>\n",
       "      <td>0</td>\n",
       "      <td>0</td>\n",
       "      <td>0</td>\n",
       "      <td>0</td>\n",
       "    </tr>\n",
       "    <tr>\n",
       "      <th>1</th>\n",
       "      <td>2017</td>\n",
       "      <td>7</td>\n",
       "      <td>0</td>\n",
       "      <td>0</td>\n",
       "      <td>0</td>\n",
       "      <td>0</td>\n",
       "    </tr>\n",
       "    <tr>\n",
       "      <th>2</th>\n",
       "      <td>2017</td>\n",
       "      <td>8</td>\n",
       "      <td>0</td>\n",
       "      <td>0</td>\n",
       "      <td>0</td>\n",
       "      <td>0</td>\n",
       "    </tr>\n",
       "    <tr>\n",
       "      <th>3</th>\n",
       "      <td>2017</td>\n",
       "      <td>9</td>\n",
       "      <td>0</td>\n",
       "      <td>0</td>\n",
       "      <td>0</td>\n",
       "      <td>0</td>\n",
       "    </tr>\n",
       "    <tr>\n",
       "      <th>4</th>\n",
       "      <td>2017</td>\n",
       "      <td>10</td>\n",
       "      <td>0</td>\n",
       "      <td>0</td>\n",
       "      <td>0</td>\n",
       "      <td>0</td>\n",
       "    </tr>\n",
       "    <tr>\n",
       "      <th>5</th>\n",
       "      <td>2017</td>\n",
       "      <td>11</td>\n",
       "      <td>0</td>\n",
       "      <td>0</td>\n",
       "      <td>0</td>\n",
       "      <td>0</td>\n",
       "    </tr>\n",
       "    <tr>\n",
       "      <th>6</th>\n",
       "      <td>2017</td>\n",
       "      <td>12</td>\n",
       "      <td>0</td>\n",
       "      <td>0</td>\n",
       "      <td>0</td>\n",
       "      <td>0</td>\n",
       "    </tr>\n",
       "    <tr>\n",
       "      <th>7</th>\n",
       "      <td>2018</td>\n",
       "      <td>1</td>\n",
       "      <td>0</td>\n",
       "      <td>0</td>\n",
       "      <td>0</td>\n",
       "      <td>0</td>\n",
       "    </tr>\n",
       "    <tr>\n",
       "      <th>8</th>\n",
       "      <td>2018</td>\n",
       "      <td>2</td>\n",
       "      <td>0</td>\n",
       "      <td>0</td>\n",
       "      <td>0</td>\n",
       "      <td>0</td>\n",
       "    </tr>\n",
       "    <tr>\n",
       "      <th>9</th>\n",
       "      <td>2018</td>\n",
       "      <td>3</td>\n",
       "      <td>0</td>\n",
       "      <td>0</td>\n",
       "      <td>0</td>\n",
       "      <td>0</td>\n",
       "    </tr>\n",
       "    <tr>\n",
       "      <th>10</th>\n",
       "      <td>2018</td>\n",
       "      <td>4</td>\n",
       "      <td>0</td>\n",
       "      <td>0</td>\n",
       "      <td>0</td>\n",
       "      <td>0</td>\n",
       "    </tr>\n",
       "    <tr>\n",
       "      <th>11</th>\n",
       "      <td>2018</td>\n",
       "      <td>5</td>\n",
       "      <td>0</td>\n",
       "      <td>0</td>\n",
       "      <td>0</td>\n",
       "      <td>0</td>\n",
       "    </tr>\n",
       "    <tr>\n",
       "      <th>12</th>\n",
       "      <td>2018</td>\n",
       "      <td>6</td>\n",
       "      <td>2061</td>\n",
       "      <td>2061</td>\n",
       "      <td>2061</td>\n",
       "      <td>2061</td>\n",
       "    </tr>\n",
       "    <tr>\n",
       "      <th>13</th>\n",
       "      <td>2018</td>\n",
       "      <td>7</td>\n",
       "      <td>3184</td>\n",
       "      <td>3184</td>\n",
       "      <td>3184</td>\n",
       "      <td>3184</td>\n",
       "    </tr>\n",
       "    <tr>\n",
       "      <th>14</th>\n",
       "      <td>2018</td>\n",
       "      <td>8</td>\n",
       "      <td>2912</td>\n",
       "      <td>2912</td>\n",
       "      <td>2912</td>\n",
       "      <td>2912</td>\n",
       "    </tr>\n",
       "    <tr>\n",
       "      <th>15</th>\n",
       "      <td>2018</td>\n",
       "      <td>9</td>\n",
       "      <td>1582</td>\n",
       "      <td>1582</td>\n",
       "      <td>1582</td>\n",
       "      <td>1582</td>\n",
       "    </tr>\n",
       "    <tr>\n",
       "      <th>16</th>\n",
       "      <td>2018</td>\n",
       "      <td>10</td>\n",
       "      <td>1356</td>\n",
       "      <td>1356</td>\n",
       "      <td>1356</td>\n",
       "      <td>1356</td>\n",
       "    </tr>\n",
       "    <tr>\n",
       "      <th>17</th>\n",
       "      <td>2018</td>\n",
       "      <td>11</td>\n",
       "      <td>484</td>\n",
       "      <td>484</td>\n",
       "      <td>484</td>\n",
       "      <td>484</td>\n",
       "    </tr>\n",
       "    <tr>\n",
       "      <th>18</th>\n",
       "      <td>2018</td>\n",
       "      <td>12</td>\n",
       "      <td>192</td>\n",
       "      <td>192</td>\n",
       "      <td>192</td>\n",
       "      <td>192</td>\n",
       "    </tr>\n",
       "    <tr>\n",
       "      <th>19</th>\n",
       "      <td>2019</td>\n",
       "      <td>1</td>\n",
       "      <td>248</td>\n",
       "      <td>248</td>\n",
       "      <td>248</td>\n",
       "      <td>248</td>\n",
       "    </tr>\n",
       "    <tr>\n",
       "      <th>20</th>\n",
       "      <td>2019</td>\n",
       "      <td>2</td>\n",
       "      <td>197</td>\n",
       "      <td>197</td>\n",
       "      <td>197</td>\n",
       "      <td>197</td>\n",
       "    </tr>\n",
       "    <tr>\n",
       "      <th>21</th>\n",
       "      <td>2019</td>\n",
       "      <td>3</td>\n",
       "      <td>221</td>\n",
       "      <td>221</td>\n",
       "      <td>221</td>\n",
       "      <td>221</td>\n",
       "    </tr>\n",
       "    <tr>\n",
       "      <th>22</th>\n",
       "      <td>2019</td>\n",
       "      <td>4</td>\n",
       "      <td>64</td>\n",
       "      <td>64</td>\n",
       "      <td>64</td>\n",
       "      <td>64</td>\n",
       "    </tr>\n",
       "    <tr>\n",
       "      <th>23</th>\n",
       "      <td>2019</td>\n",
       "      <td>5</td>\n",
       "      <td>15</td>\n",
       "      <td>15</td>\n",
       "      <td>15</td>\n",
       "      <td>15</td>\n",
       "    </tr>\n",
       "    <tr>\n",
       "      <th>24</th>\n",
       "      <td>2019</td>\n",
       "      <td>6</td>\n",
       "      <td>2160</td>\n",
       "      <td>2160</td>\n",
       "      <td>2262</td>\n",
       "      <td>2262</td>\n",
       "    </tr>\n",
       "    <tr>\n",
       "      <th>25</th>\n",
       "      <td>2019</td>\n",
       "      <td>7</td>\n",
       "      <td>55887</td>\n",
       "      <td>55291</td>\n",
       "      <td>57576</td>\n",
       "      <td>57026</td>\n",
       "    </tr>\n",
       "    <tr>\n",
       "      <th>26</th>\n",
       "      <td>2019</td>\n",
       "      <td>8</td>\n",
       "      <td>0</td>\n",
       "      <td>0</td>\n",
       "      <td>0</td>\n",
       "      <td>0</td>\n",
       "    </tr>\n",
       "    <tr>\n",
       "      <th>27</th>\n",
       "      <td>2019</td>\n",
       "      <td>9</td>\n",
       "      <td>0</td>\n",
       "      <td>0</td>\n",
       "      <td>0</td>\n",
       "      <td>0</td>\n",
       "    </tr>\n",
       "    <tr>\n",
       "      <th>28</th>\n",
       "      <td>2019</td>\n",
       "      <td>10</td>\n",
       "      <td>0</td>\n",
       "      <td>0</td>\n",
       "      <td>0</td>\n",
       "      <td>0</td>\n",
       "    </tr>\n",
       "    <tr>\n",
       "      <th>29</th>\n",
       "      <td>2019</td>\n",
       "      <td>11</td>\n",
       "      <td>923</td>\n",
       "      <td>922</td>\n",
       "      <td>972</td>\n",
       "      <td>972</td>\n",
       "    </tr>\n",
       "    <tr>\n",
       "      <th>30</th>\n",
       "      <td>2019</td>\n",
       "      <td>12</td>\n",
       "      <td>21019</td>\n",
       "      <td>21015</td>\n",
       "      <td>21347</td>\n",
       "      <td>21345</td>\n",
       "    </tr>\n",
       "    <tr>\n",
       "      <th>31</th>\n",
       "      <td>2020</td>\n",
       "      <td>1</td>\n",
       "      <td>149568</td>\n",
       "      <td>148988</td>\n",
       "      <td>149920</td>\n",
       "      <td>149343</td>\n",
       "    </tr>\n",
       "    <tr>\n",
       "      <th>32</th>\n",
       "      <td>2020</td>\n",
       "      <td>2</td>\n",
       "      <td>264236</td>\n",
       "      <td>264236</td>\n",
       "      <td>263775</td>\n",
       "      <td>263775</td>\n",
       "    </tr>\n",
       "    <tr>\n",
       "      <th>33</th>\n",
       "      <td>2020</td>\n",
       "      <td>3</td>\n",
       "      <td>65121</td>\n",
       "      <td>64477</td>\n",
       "      <td>64714</td>\n",
       "      <td>64035</td>\n",
       "    </tr>\n",
       "    <tr>\n",
       "      <th>34</th>\n",
       "      <td>2020</td>\n",
       "      <td>4</td>\n",
       "      <td>1011</td>\n",
       "      <td>1002</td>\n",
       "      <td>1014</td>\n",
       "      <td>996</td>\n",
       "    </tr>\n",
       "  </tbody>\n",
       "</table>\n",
       "</div>"
      ],
      "text/plain": [
       "    year  month  start_station_id  start_station_name  end_station_id  \\\n",
       "0   2017      6                 0                   0               0   \n",
       "1   2017      7                 0                   0               0   \n",
       "2   2017      8                 0                   0               0   \n",
       "3   2017      9                 0                   0               0   \n",
       "4   2017     10                 0                   0               0   \n",
       "5   2017     11                 0                   0               0   \n",
       "6   2017     12                 0                   0               0   \n",
       "7   2018      1                 0                   0               0   \n",
       "8   2018      2                 0                   0               0   \n",
       "9   2018      3                 0                   0               0   \n",
       "10  2018      4                 0                   0               0   \n",
       "11  2018      5                 0                   0               0   \n",
       "12  2018      6              2061                2061            2061   \n",
       "13  2018      7              3184                3184            3184   \n",
       "14  2018      8              2912                2912            2912   \n",
       "15  2018      9              1582                1582            1582   \n",
       "16  2018     10              1356                1356            1356   \n",
       "17  2018     11               484                 484             484   \n",
       "18  2018     12               192                 192             192   \n",
       "19  2019      1               248                 248             248   \n",
       "20  2019      2               197                 197             197   \n",
       "21  2019      3               221                 221             221   \n",
       "22  2019      4                64                  64              64   \n",
       "23  2019      5                15                  15              15   \n",
       "24  2019      6              2160                2160            2262   \n",
       "25  2019      7             55887               55291           57576   \n",
       "26  2019      8                 0                   0               0   \n",
       "27  2019      9                 0                   0               0   \n",
       "28  2019     10                 0                   0               0   \n",
       "29  2019     11               923                 922             972   \n",
       "30  2019     12             21019               21015           21347   \n",
       "31  2020      1            149568              148988          149920   \n",
       "32  2020      2            264236              264236          263775   \n",
       "33  2020      3             65121               64477           64714   \n",
       "34  2020      4              1011                1002            1014   \n",
       "\n",
       "    end_station_name  \n",
       "0                  0  \n",
       "1                  0  \n",
       "2                  0  \n",
       "3                  0  \n",
       "4                  0  \n",
       "5                  0  \n",
       "6                  0  \n",
       "7                  0  \n",
       "8                  0  \n",
       "9                  0  \n",
       "10                 0  \n",
       "11                 0  \n",
       "12              2061  \n",
       "13              3184  \n",
       "14              2912  \n",
       "15              1582  \n",
       "16              1356  \n",
       "17               484  \n",
       "18               192  \n",
       "19               248  \n",
       "20               197  \n",
       "21               221  \n",
       "22                64  \n",
       "23                15  \n",
       "24              2262  \n",
       "25             57026  \n",
       "26                 0  \n",
       "27                 0  \n",
       "28                 0  \n",
       "29               972  \n",
       "30             21345  \n",
       "31            149343  \n",
       "32            263775  \n",
       "33             64035  \n",
       "34               996  "
      ]
     },
     "execution_count": 23,
     "metadata": {},
     "output_type": "execute_result"
    }
   ],
   "source": [
    "# Create base dataframe with ordered year and month\n",
    "missing_df = df_clean.groupby(['year','month']).count().reset_index()[['year', 'month']]\n",
    "# Add number of missing values grouped by the four columns of interest\n",
    "for col in ['start_station_id', 'start_station_name', 'end_station_id', 'end_station_name']:\n",
    "    missing_df[col] = df_clean[col].isnull().groupby(\n",
    "        [df_clean['year'], df_clean['month']]).sum().astype(int).reset_index(name=col)[col]\n",
    "missing_df"
   ]
  },
  {
   "cell_type": "code",
   "execution_count": 24,
   "metadata": {
    "slideshow": {
     "slide_type": "skip"
    }
   },
   "outputs": [
    {
     "data": {
      "text/plain": [
       "424789"
      ]
     },
     "execution_count": 24,
     "metadata": {},
     "output_type": "execute_result"
    }
   ],
   "source": [
    "# Number of bike rides in February 2020\n",
    "len(df_clean[(df_clean.year == 2020) & (df_clean.month == 2)])"
   ]
  },
  {
   "cell_type": "markdown",
   "metadata": {
    "slideshow": {
     "slide_type": "skip"
    }
   },
   "source": [
    "**Findings:**\n",
    "\n",
    "- It seems like if observations have missing values, then they have missing values in all the four columns.\n",
    "- The missing values do not appear in one month, i.e. they are not from one file.\n",
    "- More than 50% of rentals in February 2020 have missing values in these columns (264K of 425K)\n",
    "- We will not drop the columns since we would lose key information.\n",
    "- Note: Conclusions for these columns may be misleading, because most missing values are in winter 2019/2020."
   ]
  },
  {
   "cell_type": "markdown",
   "metadata": {
    "slideshow": {
     "slide_type": "skip"
    }
   },
   "source": [
    "### Data types\n",
    "\n",
    "**5. Date columns *start_time* and *end_time* have data type 'object'.**\n",
    "\n",
    "**Define**\n",
    "\n",
    "Change data type to 'datetime' using `pd.to_datetime()`.\n",
    "\n",
    "**Code**"
   ]
  },
  {
   "cell_type": "code",
   "execution_count": 25,
   "metadata": {
    "slideshow": {
     "slide_type": "skip"
    }
   },
   "outputs": [],
   "source": [
    "date_columns = ['start_time', 'end_time']\n",
    "for column in date_columns:\n",
    "    df_clean[column] = pd.to_datetime(df_clean[column])"
   ]
  },
  {
   "cell_type": "markdown",
   "metadata": {
    "slideshow": {
     "slide_type": "skip"
    }
   },
   "source": [
    "**Test**"
   ]
  },
  {
   "cell_type": "code",
   "execution_count": 26,
   "metadata": {
    "slideshow": {
     "slide_type": "skip"
    }
   },
   "outputs": [
    {
     "name": "stdout",
     "output_type": "stream",
     "text": [
      "<class 'pandas.core.frame.DataFrame'>\n",
      "Int64Index: 5787899 entries, 0 to 176798\n",
      "Data columns (total 20 columns):\n",
      " #   Column                   Dtype         \n",
      "---  ------                   -----         \n",
      " 0   duration_sec             int64         \n",
      " 1   start_time               datetime64[ns]\n",
      " 2   end_time                 datetime64[ns]\n",
      " 3   start_station_id         float64       \n",
      " 4   start_station_name       object        \n",
      " 5   start_station_latitude   float64       \n",
      " 6   start_station_longitude  float64       \n",
      " 7   end_station_id           float64       \n",
      " 8   end_station_name         object        \n",
      " 9   end_station_latitude     float64       \n",
      " 10  end_station_longitude    float64       \n",
      " 11  bike_id                  int64         \n",
      " 12  user_type                object        \n",
      " 13  bike_share_for_all_trip  object        \n",
      " 14  year                     int64         \n",
      " 15  month                    int64         \n",
      " 16  week                     int64         \n",
      " 17  day                      int64         \n",
      " 18  hour                     int64         \n",
      " 19  weekday                  category      \n",
      "dtypes: category(1), datetime64[ns](2), float64(6), int64(7), object(4)\n",
      "memory usage: 928.7+ MB\n"
     ]
    }
   ],
   "source": [
    "df_clean.info()"
   ]
  },
  {
   "cell_type": "markdown",
   "metadata": {
    "slideshow": {
     "slide_type": "skip"
    }
   },
   "source": [
    "### Additional data cleaning\n",
    "\n",
    "**6. `df_clean` contains bike rides from April 1st, 2020**"
   ]
  },
  {
   "cell_type": "code",
   "execution_count": 27,
   "metadata": {
    "slideshow": {
     "slide_type": "skip"
    }
   },
   "outputs": [
    {
     "data": {
      "text/plain": [
       "1732"
      ]
     },
     "execution_count": 27,
     "metadata": {},
     "output_type": "execute_result"
    }
   ],
   "source": [
    "len(df_clean[df_clean['start_time'] >= '2020-04-01'])"
   ]
  },
  {
   "cell_type": "code",
   "execution_count": 28,
   "metadata": {
    "slideshow": {
     "slide_type": "skip"
    }
   },
   "outputs": [
    {
     "data": {
      "text/plain": [
       "0"
      ]
     },
     "execution_count": 28,
     "metadata": {},
     "output_type": "execute_result"
    }
   ],
   "source": [
    "len(df_clean[df_clean['start_time'] >= '2020-04-02'])"
   ]
  },
  {
   "cell_type": "markdown",
   "metadata": {
    "slideshow": {
     "slide_type": "skip"
    }
   },
   "source": [
    "**Define**\n",
    "\n",
    "Drop the bike rides after April 1st, 2020 to come up with bike rides until March 31st, 2020.\n",
    "\n",
    "**Code**"
   ]
  },
  {
   "cell_type": "code",
   "execution_count": 29,
   "metadata": {
    "slideshow": {
     "slide_type": "skip"
    }
   },
   "outputs": [],
   "source": [
    "df_clean = df_clean[df_clean['start_time'] < '2020-04-01']"
   ]
  },
  {
   "cell_type": "markdown",
   "metadata": {
    "slideshow": {
     "slide_type": "skip"
    }
   },
   "source": [
    "**Test**"
   ]
  },
  {
   "cell_type": "code",
   "execution_count": 30,
   "metadata": {
    "slideshow": {
     "slide_type": "skip"
    }
   },
   "outputs": [
    {
     "data": {
      "text/plain": [
       "68382    2020-03-31 23:59:51.000\n",
       "3        2020-03-31 23:55:00.426\n",
       "62699    2020-03-31 23:53:57.000\n",
       "119008   2020-03-31 23:53:17.000\n",
       "133610   2020-03-31 23:52:25.000\n",
       "Name: start_time, dtype: datetime64[ns]"
      ]
     },
     "execution_count": 30,
     "metadata": {},
     "output_type": "execute_result"
    }
   ],
   "source": [
    "df_clean['start_time'].sort_values(ascending=False)[:5]"
   ]
  },
  {
   "cell_type": "markdown",
   "metadata": {
    "slideshow": {
     "slide_type": "subslide"
    }
   },
   "source": [
    "### Structure of the dataset\n",
    "\n",
    "- The cleaned database analyzed in the project captures **~5,800,000 bike rides from Juny 26th 2017 to March 31st 2020**.\n",
    "\n",
    "- The following information is available for a bike ride:\n",
    "  - Duration in seconds\n",
    "  - Start time\n",
    "  - End time\n",
    "  - Start station ID, start station name\n",
    "  - Start station latitude, start station longitude\n",
    "  - End station ID, end station name\n",
    "  - End station latitude, end station longitude\n",
    "  - Bike ID\n",
    "  - User type\n",
    "  - Bike share for all trip\n",
    "  \n",
    "- Data types:\n",
    "  - Datetime: Start time, end time\n",
    "  - Numerical: e.g. Duration in seconds, start station ID, end station ID \n",
    "  - Categorical: User type, weekday, weekday or not (binary)"
   ]
  },
  {
   "cell_type": "code",
   "execution_count": 31,
   "metadata": {},
   "outputs": [],
   "source": [
    "# Save df_clean to csv file\n",
    "os.chdir('/Users/frederikschmidt/Python-Notebooks/Data-Analyst-Nanodegree/5-Data-Visualization/Project 5 - Communicate Data Findings')\n",
    "df_clean.to_csv('df_bikesharing_all.csv', header=True, index=False)"
   ]
  },
  {
   "cell_type": "markdown",
   "metadata": {
    "slideshow": {
     "slide_type": "slide"
    }
   },
   "source": [
    "<a id='exploration'></a>\n",
    "# 2. Data Exploration"
   ]
  },
  {
   "cell_type": "markdown",
   "metadata": {
    "slideshow": {
     "slide_type": "slide"
    }
   },
   "source": [
    "<a id='univariate'></a>\n",
    "## 2.1 Univariate Exploration"
   ]
  },
  {
   "cell_type": "markdown",
   "metadata": {
    "slideshow": {
     "slide_type": "slide"
    }
   },
   "source": [
    "### 2.1.1. Duration of bike rides\n",
    "\n",
    "- How long do users ride the bikes?"
   ]
  },
  {
   "cell_type": "code",
   "execution_count": 32,
   "metadata": {
    "slideshow": {
     "slide_type": "subslide"
    }
   },
   "outputs": [
    {
     "data": {
      "image/png": "[encoded data removed]",
      "text/plain": [
       "<Figure size 720x432 with 1 Axes>"
      ]
     },
     "metadata": {},
     "output_type": "display_data"
    }
   ],
   "source": [
    "treshold = 2500\n",
    "x_ticks = np.arange(0, treshold, 120)\n",
    "bin_size = np.arange(0, treshold+20, 20)\n",
    "\n",
    "plt.figure(figsize=(10,6))\n",
    "plt.hist(df_clean['duration_sec'][df_clean['duration_sec'] <= treshold], bins=bin_size)\n",
    "plt.title('Duration of bike rides')\n",
    "plt.xlabel('Duration (in sec)'), plt.ylabel('Number of bike rides')\n",
    "plt.xticks(x_ticks, x_ticks), plt.xlim(0, treshold);"
   ]
  },
  {
   "cell_type": "code",
   "execution_count": 33,
   "metadata": {
    "slideshow": {
     "slide_type": "skip"
    }
   },
   "outputs": [
    {
     "data": {
      "text/plain": [
       "count    5.786167e+06\n",
       "mean     8.495146e+02\n",
       "std      2.235196e+03\n",
       "min      6.000000e+01\n",
       "25%      3.600000e+02\n",
       "50%      5.710000e+02\n",
       "75%      8.930000e+02\n",
       "max      9.121100e+05\n",
       "Name: duration_sec, dtype: float64"
      ]
     },
     "execution_count": 33,
     "metadata": {},
     "output_type": "execute_result"
    }
   ],
   "source": [
    "df_clean['duration_sec'].describe()"
   ]
  },
  {
   "cell_type": "markdown",
   "metadata": {
    "slideshow": {
     "slide_type": "subslide"
    }
   },
   "source": [
    "**Findings:**\n",
    "\n",
    "- The distribution of the duration of bike rides is unimodal and skewed to the right. \n",
    "- The center of the distribution is at about 360 seconds.\n",
    "- Most people use the bikes **between 120 seconds and 1200 seconds**.\n",
    "- There is a long tail of longer bike rides.\n",
    "- For visual purposes, the plot only displays bike rates up to 20 minutes. The longest bike rental took about **90,000 seconds** which is slightly more than 24 hours."
   ]
  },
  {
   "cell_type": "markdown",
   "metadata": {
    "slideshow": {
     "slide_type": "slide"
    }
   },
   "source": [
    "### 2.1.2 Bike usage over the week\n",
    "\n",
    "- How does the usage vary across days of the week?\n",
    "- Do more people use the service at the weekend (e.g. tourists)?"
   ]
  },
  {
   "cell_type": "code",
   "execution_count": 34,
   "metadata": {
    "slideshow": {
     "slide_type": "subslide"
    }
   },
   "outputs": [
    {
     "data": {
      "image/png": "[encoded data removed]",
      "text/plain": [
       "<Figure size 720x432 with 1 Axes>"
      ]
     },
     "metadata": {},
     "output_type": "display_data"
    }
   ],
   "source": [
    "plt.figure(figsize=(10,6))\n",
    "sns.countplot(data=df_clean, x='weekday', color=base_color)\n",
    "plt.title('Bike usage over the week');"
   ]
  },
  {
   "cell_type": "markdown",
   "metadata": {
    "slideshow": {
     "slide_type": "subslide"
    }
   },
   "source": [
    "**Finding:**\n",
    "\n",
    "- There is a difference between weekend and in the week. The Bay Wheels service is **less popular at the weekend**.\n",
    "- As of March 2019, the total number of tracked bike rides during the week is about **900K for every day**, compared to about **500K for every day** at the weekend.\n",
    "- The service might be popular for commuters. The distribution of bike usage over the day may yield insights into this."
   ]
  },
  {
   "cell_type": "markdown",
   "metadata": {
    "slideshow": {
     "slide_type": "slide"
    }
   },
   "source": [
    "### 2.1.3 Bike usage over the day\n",
    "\n",
    "- Is there a difference in the usage over the day?\n",
    "- Do people use the bikes for commuting in the morning and the evening?"
   ]
  },
  {
   "cell_type": "code",
   "execution_count": 35,
   "metadata": {
    "slideshow": {
     "slide_type": "subslide"
    }
   },
   "outputs": [
    {
     "data": {
      "image/png": "[encoded data removed]",
      "text/plain": [
       "<Figure size 720x432 with 1 Axes>"
      ]
     },
     "metadata": {},
     "output_type": "display_data"
    }
   ],
   "source": [
    "plt.figure(figsize=(10,6))\n",
    "sns.countplot(data=df_clean, x='hour', color=base_color)\n",
    "plt.title('Bike usage over the day');"
   ]
  },
  {
   "cell_type": "markdown",
   "metadata": {
    "slideshow": {
     "slide_type": "subslide"
    }
   },
   "source": [
    "**Findings:**\n",
    "\n",
    "- There are clear peaks at rush hour, i.e. **between 7am and 9am** and **between 4pm and 6pm**, probably due to commuters.\n",
    "- If this is true, we should see differences in the bike usage over the day when we consider weekdays and weekend separately. This is where **bivariate analysis** will be powerful later on."
   ]
  },
  {
   "cell_type": "markdown",
   "metadata": {
    "slideshow": {
     "slide_type": "slide"
    }
   },
   "source": [
    "### 2.1.4 Share of total bike rides per user type\n",
    "\n",
    "- How many bike rides can be assigned to Customers and Subscribers?"
   ]
  },
  {
   "cell_type": "code",
   "execution_count": 36,
   "metadata": {
    "slideshow": {
     "slide_type": "subslide"
    }
   },
   "outputs": [
    {
     "data": {
      "image/png": "[encoded data removed]",
      "text/plain": [
       "<Figure size 720x432 with 1 Axes>"
      ]
     },
     "metadata": {},
     "output_type": "display_data"
    }
   ],
   "source": [
    "plt.figure(figsize=(10,6))\n",
    "plt.pie(df_clean['user_type'].value_counts(),\n",
    "        autopct='%1.1f%%', startangle=90, textprops=dict(color=\"w\", size=14))\n",
    "plt.legend(['Subscribers', 'Customers'], loc='upper left', fontsize=14, frameon=True)\n",
    "plt.title('Share of total bike rides per user type');"
   ]
  },
  {
   "cell_type": "markdown",
   "metadata": {
    "slideshow": {
     "slide_type": "subslide"
    }
   },
   "source": [
    "**Findings:**\n",
    "- From the 5,800,000 bike rides, about **20%** can be assigned to **Customers** and about **80%** to **Subscribers**.\n",
    "- Note: This does not indicate that most Bay Wheels users are Subscribers. It simply means that Subscribers account for most trips. Whether or not Subscribers use the service more often cannot be analyzed, because of a missing user ID."
   ]
  },
  {
   "cell_type": "markdown",
   "metadata": {
    "slideshow": {
     "slide_type": "slide"
    }
   },
   "source": [
    "### 2.1.5 Development over time\n",
    "\n",
    "- How did the average number of rides develop over time?"
   ]
  },
  {
   "cell_type": "code",
   "execution_count": 37,
   "metadata": {
    "slideshow": {
     "slide_type": "slide"
    }
   },
   "outputs": [
    {
     "data": {
      "image/png": "[encoded data removed]",
      "text/plain": [
       "<Figure size 720x432 with 1 Axes>"
      ]
     },
     "metadata": {},
     "output_type": "display_data"
    }
   ],
   "source": [
    "df_time = df_clean.groupby(['year', 'week'])['bike_id'].count().reset_index().rename(\n",
    "    columns={'bike_id':'count'})\n",
    "\n",
    "# Convert year and week to date\n",
    "dates = df_time['year'] * 100 + df_time['week']\n",
    "df_time['date'] = pd.to_datetime(dates.astype(str) + '0', format='%Y%W%w')\n",
    "\n",
    "# Results may be distorted if the last week has less than 7 days and counts as a full week\n",
    "# Drop incomplete weeks \n",
    "df_time = df_time[df_time['date'] < '2020-04-01']\n",
    "\n",
    "x_ticks_old = [np.datetime64('2017-07'), np.datetime64('2018-01'), np.datetime64('2018-07'),\n",
    "               np.datetime64('2019-01'), np.datetime64('2019-07'), np.datetime64('2020-01')]\n",
    "x_ticks_new = ['Jul 2017', 'Jan 2018', 'Jul 2018', 'Jan 2019', 'Jul 2019', 'Jan 2020']\n",
    "\n",
    "plt.figure(figsize=(10,6))\n",
    "plt.plot(df_time['date'], df_time['count'])\n",
    "plt.title('Number of weekly bike rides (July 2017 to March 2020)')\n",
    "plt.xticks(x_ticks_old, x_ticks_new);"
   ]
  },
  {
   "cell_type": "markdown",
   "metadata": {
    "slideshow": {
     "slide_type": "subslide"
    }
   },
   "source": [
    "**Finding 1:**\n",
    "\n",
    "- There is an overall positive trend.\n",
    "\n",
    "\n",
    "**Finding 2:**\n",
    "\n",
    "- There are two obvious drops over the year:\n",
    "  - one in the last year of the week (**Christmas**),\n",
    "  - and second one about four weeks earlier (**Thanksgiving**).\n",
    "- The number of bike rentals during these weeks are expected to be lower because of less commuters.\n",
    "- See below: Indeed, we see that there are almost no peaks in the morning and in the evening in the Christmas week."
   ]
  },
  {
   "cell_type": "code",
   "execution_count": 38,
   "metadata": {
    "slideshow": {
     "slide_type": "subslide"
    }
   },
   "outputs": [
    {
     "data": {
      "image/png": "[encoded data removed]",
      "text/plain": [
       "<Figure size 720x432 with 1 Axes>"
      ]
     },
     "metadata": {},
     "output_type": "display_data"
    }
   ],
   "source": [
    "plt.figure(figsize=(10,6))\n",
    "sns.countplot(data=df_clean[(df_clean['week'] == 52)], x='hour', color=base_color)\n",
    "plt.title('Bike usage over day in Christmas week');"
   ]
  },
  {
   "cell_type": "markdown",
   "metadata": {
    "slideshow": {
     "slide_type": "subslide"
    }
   },
   "source": [
    "**Finding 3:**\n",
    "\n",
    "- There is a huge peak and drop in 2020.\n",
    "- See below: The peak and the drop also appears in the raw data. This may be due to special marketing activities."
   ]
  },
  {
   "cell_type": "code",
   "execution_count": 39,
   "metadata": {
    "slideshow": {
     "slide_type": "subslide"
    }
   },
   "outputs": [
    {
     "name": "stdout",
     "output_type": "stream",
     "text": [
      "202001-baywheels-tripdata.csv 295854\n",
      "202002-baywheels-tripdata.csv 432354\n",
      "202003-baywheels-tripdata.csv 176799\n",
      "202004-baywheels-tripdata.csv 84259\n",
      "202005-baywheels-tripdata.csv 138251\n",
      "202006-baywheels-tripdata.csv 158168\n"
     ]
    }
   ],
   "source": [
    "os.chdir(folder_name)\n",
    "for file in csv_files:\n",
    "    if '2020' in file:\n",
    "        test = pd.read_csv(file)\n",
    "        print(file, len(test))"
   ]
  },
  {
   "cell_type": "markdown",
   "metadata": {
    "slideshow": {
     "slide_type": "subslide"
    }
   },
   "source": [
    "**Finding 4:**\n",
    "- The plot reveals seasonality over the year: There are more bike rides in the summer.\n",
    "- Using bivariate analysis later on, we will see if this effect has been stable over the years."
   ]
  },
  {
   "cell_type": "markdown",
   "metadata": {
    "slideshow": {
     "slide_type": "slide"
    }
   },
   "source": [
    "### 2.1.6 Distance traveled\n",
    "\n",
    "- How is the distance of bike rides distributed? How far do people ride?\n",
    "\n",
    "The distance of every bike ride can be derived from the start and end coordinates. This is more a fun plot. We expect the distance of a bike ride to be highly correlated with its duration. Most importantly, duration should be the variable of interest since Lyft earns money with trips that are longer in time, not necessarily with trips that are longer in distance.\n",
    "\n",
    "Note:\n",
    "- We assume that users directly drive from A to B.\n",
    "- We do not consider bike rides with the same start and end station (distance would be 0)."
   ]
  },
  {
   "cell_type": "code",
   "execution_count": 40,
   "metadata": {
    "slideshow": {
     "slide_type": "skip"
    }
   },
   "outputs": [],
   "source": [
    "# Define what we want to caluclate for every row\n",
    "def distancer(row):\n",
    "    coords_1 = (row['start_station_latitude'], row['start_station_longitude'])\n",
    "    coords_2 = (row['end_station_latitude'], row['end_station_longitude'])\n",
    "    return distance.distance(coords_1, coords_2).m\n",
    "\n",
    "# Apply the function to each row in df_clean\n",
    "df_clean['meter_distance'] = df_clean.apply(distancer, axis=1)"
   ]
  },
  {
   "cell_type": "code",
   "execution_count": 41,
   "metadata": {
    "slideshow": {
     "slide_type": "skip"
    }
   },
   "outputs": [],
   "source": [
    "# Multiply distance with factor 1.3 to convert air distance to land distance\n",
    "df_clean['meter_distance'] = df_clean['meter_distance'] * 1.3"
   ]
  },
  {
   "cell_type": "code",
   "execution_count": 42,
   "metadata": {
    "slideshow": {
     "slide_type": "subslide"
    }
   },
   "outputs": [
    {
     "data": {
      "image/png": "[encoded data removed]",
      "text/plain": [
       "<Figure size 720x432 with 1 Axes>"
      ]
     },
     "metadata": {},
     "output_type": "display_data"
    }
   ],
   "source": [
    "# Do not consider outliers and rides with the same start and end station\n",
    "plt.figure(figsize=(10,6))\n",
    "plt.hist(df_clean['meter_distance'][\n",
    "    (df_clean['meter_distance'] > 0) &\n",
    "    (df_clean['meter_distance'] <= df_clean['meter_distance'].quantile(0.99))], bins=25)\n",
    "plt.xlim(0,df_clean['meter_distance'].quantile(0.99))\n",
    "plt.title('Distance traveled (in m)')\n",
    "plt.xlabel('Distance (in m)'), plt.ylabel('Number of bike rides');"
   ]
  },
  {
   "cell_type": "markdown",
   "metadata": {
    "slideshow": {
     "slide_type": "subslide"
    }
   },
   "source": [
    "**Findings:**\n",
    "\n",
    "- The distribution of the distance traveled is unimodal and skewed to the right.\n",
    "- As expected, it looks similar to the distribution of the duration.\n",
    "- The center of the distribution is between approximately 1.2km and 1.6km.\n",
    "- Most bike rides (with different start and end station) are between **0.5km and 3.0km**."
   ]
  },
  {
   "cell_type": "markdown",
   "metadata": {
    "slideshow": {
     "slide_type": "slide"
    }
   },
   "source": [
    "<a id='bivariate'></a>\n",
    "## 2.2 Bivariate Exploration"
   ]
  },
  {
   "cell_type": "markdown",
   "metadata": {
    "slideshow": {
     "slide_type": "slide"
    }
   },
   "source": [
    "### 2.2.1 Number of bike rides per weekday for Customers and Subscribers\n",
    "\n",
    "- Are there differences especially between weekend and no weekend?"
   ]
  },
  {
   "cell_type": "code",
   "execution_count": 43,
   "metadata": {
    "slideshow": {
     "slide_type": "subslide"
    }
   },
   "outputs": [
    {
     "data": {
      "image/png": "[encoded data removed]",
      "text/plain": [
       "<Figure size 720x432 with 1 Axes>"
      ]
     },
     "metadata": {},
     "output_type": "display_data"
    }
   ],
   "source": [
    "days_order = ['Monday', 'Tuesday', 'Wednesday', 'Thursday', 'Friday', 'Saturday', 'Sunday']\n",
    "users_order = ['Customer', 'Subscriber']\n",
    "\n",
    "plt.figure(figsize=(10, 6))\n",
    "baselines = np.zeros(len(days_order))\n",
    "# For each second-variable category:\n",
    "for i in range(len(users_order)):\n",
    "    # Isolate the counts of Customer and Subscriber\n",
    "    users = users_order[i]\n",
    "    # For Customer and Subscriber, count the number of rides per weekday\n",
    "    inner_counts = df_clean[df_clean['user_type'] == users]['weekday'].value_counts()\n",
    "    # Plot the counts on top of the accumulated baseline\n",
    "    plt.bar(x=np.arange(len(days_order)), height=inner_counts[days_order], bottom=baselines)\n",
    "    # Adjust the baseline for the second group\n",
    "    baselines += inner_counts[days_order]\n",
    "plt.xticks(np.arange(len(days_order)), days_order)\n",
    "plt.legend(users_order)\n",
    "plt.title('Number of bike rides per weekday: Customers vs. Subscribers');"
   ]
  },
  {
   "cell_type": "markdown",
   "metadata": {
    "slideshow": {
     "slide_type": "subslide"
    }
   },
   "source": [
    "**Findings:**\n",
    "\n",
    "- The number of bike rides made by **Customers** is **very stable** over the week.\n",
    "- For **Subscribers**, there is a **difference** between during the week and weekend.\n",
    "- At a weekend day, Subscribers only make about 50% of the bike rides they make from Monday to Friday."
   ]
  },
  {
   "cell_type": "markdown",
   "metadata": {
    "slideshow": {
     "slide_type": "slide"
    }
   },
   "source": [
    "### 2.2.2 Bike usage over the day: Weekend vs. no weekend\n",
    "\n",
    "- In light of the popularity of the service during rush hour, is there a difference between weekend and no weekend?"
   ]
  },
  {
   "cell_type": "code",
   "execution_count": 44,
   "metadata": {
    "slideshow": {
     "slide_type": "skip"
    }
   },
   "outputs": [],
   "source": [
    "df_clean['dummy_weekday'] = np.nan\n",
    "df_clean['dummy_weekday'][(df_clean['weekday'] == 'Saturday') |\n",
    "                          (df_clean['weekday'] == 'Sunday')] = 'Weekend'\n",
    "df_clean['dummy_weekday'] = df_clean['dummy_weekday'].fillna('No Weekend')"
   ]
  },
  {
   "cell_type": "code",
   "execution_count": 45,
   "metadata": {
    "slideshow": {
     "slide_type": "subslide"
    }
   },
   "outputs": [
    {
     "data": {
      "image/png": "[encoded data removed]",
      "text/plain": [
       "<Figure size 720x432 with 1 Axes>"
      ]
     },
     "metadata": {},
     "output_type": "display_data"
    }
   ],
   "source": [
    "plt.figure(figsize=(10,6))\n",
    "sns.countplot(data=df_clean, x='hour', hue='dummy_weekday')\n",
    "plt.legend(title=False)\n",
    "plt.title('Number of bike rentals over the day: Weekend vs. no weekend');"
   ]
  },
  {
   "cell_type": "markdown",
   "metadata": {
    "slideshow": {
     "slide_type": "subslide"
    }
   },
   "source": [
    "**Findings:**\n",
    "\n",
    "- The **peaks** in the morning and in the evening only appear **during the week**.\n",
    "- The distribution of bike rides over the day looks fairly different at the weekend.\n",
    "- At the **weekend**, the number of bike rides is **distributed smoothly** and achieves a peak between 11am and 4pm.\n",
    "- In **multivariate exploration**, we will add the user types to see if this holds for both groups."
   ]
  },
  {
   "cell_type": "markdown",
   "metadata": {
    "slideshow": {
     "slide_type": "slide"
    }
   },
   "source": [
    "### 2.2.3 Duration for Customers and Subscribers\n",
    "\n",
    "- How does the ride time differ between Customers and Subscribers?\n",
    "- Is there an obvious effect of the 30 min vs. 45 min ride time?"
   ]
  },
  {
   "cell_type": "code",
   "execution_count": 46,
   "metadata": {
    "slideshow": {
     "slide_type": "subslide"
    }
   },
   "outputs": [
    {
     "data": {
      "image/png": "[encoded data removed]",
      "text/plain": [
       "<Figure size 432x576 with 1 Axes>"
      ]
     },
     "metadata": {},
     "output_type": "display_data"
    }
   ],
   "source": [
    "# Do not consider outliers for visual purposes\n",
    "plt.figure(figsize=(6,8))\n",
    "sns.boxplot(data=df_clean[df_clean['duration_sec'] < df_clean['duration_sec'].quantile(0.99)],\n",
    "            x='user_type', y='duration_sec')\n",
    "plt.xlabel('User Type'), plt.ylabel('Duration (in sec)')\n",
    "plt.title('Boxplot: Duration for Customers and Subscribers');"
   ]
  },
  {
   "cell_type": "code",
   "execution_count": 47,
   "metadata": {
    "slideshow": {
     "slide_type": "skip"
    }
   },
   "outputs": [
    {
     "data": {
      "text/html": [
       "<div>\n",
       "<style scoped>\n",
       "    .dataframe tbody tr th:only-of-type {\n",
       "        vertical-align: middle;\n",
       "    }\n",
       "\n",
       "    .dataframe tbody tr th {\n",
       "        vertical-align: top;\n",
       "    }\n",
       "\n",
       "    .dataframe thead th {\n",
       "        text-align: right;\n",
       "    }\n",
       "</style>\n",
       "<table border=\"1\" class=\"dataframe\">\n",
       "  <thead>\n",
       "    <tr style=\"text-align: right;\">\n",
       "      <th></th>\n",
       "      <th>count</th>\n",
       "      <th>mean</th>\n",
       "      <th>std</th>\n",
       "      <th>min</th>\n",
       "      <th>25%</th>\n",
       "      <th>50%</th>\n",
       "      <th>75%</th>\n",
       "      <th>max</th>\n",
       "    </tr>\n",
       "    <tr>\n",
       "      <th>user_type</th>\n",
       "      <th></th>\n",
       "      <th></th>\n",
       "      <th></th>\n",
       "      <th></th>\n",
       "      <th></th>\n",
       "      <th></th>\n",
       "      <th></th>\n",
       "      <th></th>\n",
       "    </tr>\n",
       "  </thead>\n",
       "  <tbody>\n",
       "    <tr>\n",
       "      <th>Customer</th>\n",
       "      <td>1189766.0</td>\n",
       "      <td>973.719893</td>\n",
       "      <td>766.616931</td>\n",
       "      <td>60.0</td>\n",
       "      <td>469.0</td>\n",
       "      <td>762.0</td>\n",
       "      <td>1226.0</td>\n",
       "      <td>4988.0</td>\n",
       "    </tr>\n",
       "    <tr>\n",
       "      <th>Subscriber</th>\n",
       "      <td>4538525.0</td>\n",
       "      <td>639.409420</td>\n",
       "      <td>459.540582</td>\n",
       "      <td>60.0</td>\n",
       "      <td>339.0</td>\n",
       "      <td>530.0</td>\n",
       "      <td>805.0</td>\n",
       "      <td>4988.0</td>\n",
       "    </tr>\n",
       "  </tbody>\n",
       "</table>\n",
       "</div>"
      ],
      "text/plain": [
       "                count        mean         std   min    25%    50%     75%  \\\n",
       "user_type                                                                   \n",
       "Customer    1189766.0  973.719893  766.616931  60.0  469.0  762.0  1226.0   \n",
       "Subscriber  4538525.0  639.409420  459.540582  60.0  339.0  530.0   805.0   \n",
       "\n",
       "               max  \n",
       "user_type           \n",
       "Customer    4988.0  \n",
       "Subscriber  4988.0  "
      ]
     },
     "execution_count": 47,
     "metadata": {},
     "output_type": "execute_result"
    }
   ],
   "source": [
    "# Do not consider outliers\n",
    "df_clean[df_clean['duration_sec'] < df_clean['duration_sec'].quantile(0.99)].groupby(\n",
    "    'user_type')['duration_sec'].describe()"
   ]
  },
  {
   "cell_type": "markdown",
   "metadata": {
    "slideshow": {
     "slide_type": "subslide"
    }
   },
   "source": [
    "**Findings:**\n",
    "\n",
    "- Note: For visual purposes, we dropped the last percentile to get rid of outliers. \n",
    "- Customers spend more time with a bike than Subscribers.\n",
    "- On average, **Customers** use a bike for **974 seconds** or about 15 minutes, compared to **Subscribers** with only **639 seconds** or 10 minutes.\n",
    "- The median duration of a bike rental is 762 seconds while Subscribers have a median rental time of only 530 seconds.\n",
    "- The day pass option may be more popular among Customers (e.g. tourists) and affect the duration."
   ]
  },
  {
   "cell_type": "markdown",
   "metadata": {
    "slideshow": {
     "slide_type": "slide"
    }
   },
   "source": [
    "### 2.2.4 Monthly bike rentals for 2018 and 2019\n",
    "\n",
    "- Are the patterns in 2018 and 2019 identical or can we observe signs that operations have changed based on 2018 data?\n",
    "\n",
    "Note: With 2018 and 2019, only years with complete data have been selected to be able to compare absolute numbers."
   ]
  },
  {
   "cell_type": "code",
   "execution_count": 48,
   "metadata": {
    "slideshow": {
     "slide_type": "subslide"
    }
   },
   "outputs": [
    {
     "data": {
      "image/png": "[encoded data removed]",
      "text/plain": [
       "<Figure size 720x432 with 1 Axes>"
      ]
     },
     "metadata": {},
     "output_type": "display_data"
    }
   ],
   "source": [
    "plt.figure(figsize=(10,6))\n",
    "sns.countplot(data=df_clean[(df_clean['year'] == 2018) | (df_clean['year'] == 2019)],\n",
    "              x='month', hue='year')\n",
    "plt.title('Monthly bike rentals: 2018 vs. 2019')\n",
    "plt.legend(title=False);"
   ]
  },
  {
   "cell_type": "markdown",
   "metadata": {
    "slideshow": {
     "slide_type": "subslide"
    }
   },
   "source": [
    "**Findings:**\n",
    "\n",
    "- There were overall more bike rentals in 2019 than in 2018 (**business growth**).\n",
    "- There are differences in the patterns between 2018 and 2019:\n",
    "  - In **2018**, users consistently did more bike rides in the summer months.\n",
    "  - In **2019**, there were peaks in **March and October** and the service was equally popular in January and June."
   ]
  },
  {
   "cell_type": "markdown",
   "metadata": {
    "slideshow": {
     "slide_type": "slide"
    }
   },
   "source": [
    "<a id='multivariate'></a>\n",
    "## 2.3 Multivariate Exploration"
   ]
  },
  {
   "cell_type": "markdown",
   "metadata": {
    "slideshow": {
     "slide_type": "subslide"
    }
   },
   "source": [
    "### 2.3.1 Hourly service usage per day for both user types\n",
    "\n",
    "- Are there differences in the service usage for both user types?\n",
    "- Do Subscribers mostly use the service for commuting and Customers for sightseeing or other activities during the day?"
   ]
  },
  {
   "cell_type": "code",
   "execution_count": 49,
   "metadata": {
    "slideshow": {
     "slide_type": "subslide"
    }
   },
   "outputs": [
    {
     "data": {
      "image/png": "[encoded data removed]",
      "text/plain": [
       "<Figure size 720x432 with 4 Axes>"
      ]
     },
     "metadata": {},
     "output_type": "display_data"
    }
   ],
   "source": [
    "# Create figure\n",
    "plt.figure(figsize=(10,6))\n",
    "plt.suptitle('Hourly service usage per day for both user types')\n",
    "# Put each heatmap into a subplot\n",
    "for index, value in enumerate(['Subscriber', 'Customer']):\n",
    "    plt.subplot(1,2,index+1)\n",
    "    heatmap = df_clean[df_clean['user_type'] == value].groupby(\n",
    "        ['user_type', 'hour', 'weekday'])['bike_id'].count().unstack().droplevel(level=0)\n",
    "    sns.heatmap(heatmap, cmap='Blues', linewidths=0.01)\n",
    "    plt.title('{}'.format(value)), plt.xlabel('Day'), plt.ylabel('Hour')\n",
    "    plt.yticks(rotation=0)\n",
    "    plt.tight_layout(rect=[0, 0.03, 1, 0.95]) # Adjust subplots to avoid overlap"
   ]
  },
  {
   "cell_type": "markdown",
   "metadata": {
    "slideshow": {
     "slide_type": "subslide"
    }
   },
   "source": [
    "**Findings:**\n",
    "\n",
    "- Note: The color maps of both subplots have very different scales.\n",
    "- **Subscribers** mostly use the service **during the week** for commuting in the morning and the evening. The bikes are used less at the weekend and during the day.\n",
    "- **Customers** use the service **during the week** in the morning and the evening as well. The bikes are very popular for Customers **at the weekend**, too."
   ]
  },
  {
   "cell_type": "markdown",
   "metadata": {
    "slideshow": {
     "slide_type": "slide"
    }
   },
   "source": [
    "### 2.3.2 Average ride duration per day for both user types\n",
    "\n",
    "- Are there differences in the duration of bike rides per weekday among both user types?"
   ]
  },
  {
   "cell_type": "code",
   "execution_count": 50,
   "metadata": {
    "slideshow": {
     "slide_type": "subslide"
    }
   },
   "outputs": [
    {
     "data": {
      "image/png": "[encoded data removed]",
      "text/plain": [
       "<Figure size 720x432 with 1 Axes>"
      ]
     },
     "metadata": {},
     "output_type": "display_data"
    }
   ],
   "source": [
    "# Do not consider outliers for visual purposes\n",
    "plt.figure(figsize=(10,6))\n",
    "sns.pointplot(data=df_clean[df_clean['duration_sec'] <= df_clean['duration_sec'].quantile(0.99)],\n",
    "            hue='user_type', y='duration_sec', x='weekday');\n",
    "plt.xticks(rotation=20)\n",
    "plt.legend(title='User Type')\n",
    "plt.title('Average ride duration per day for both user types')\n",
    "plt.xlabel('Weekday'), plt.ylabel('Duration (sec)');"
   ]
  },
  {
   "cell_type": "markdown",
   "metadata": {
    "slideshow": {
     "slide_type": "subslide"
    }
   },
   "source": [
    "**Findings:**\n",
    "\n",
    "- Both user types make **longer trips at the weekend**. The difference is larger for Customers.\n",
    "- This may be the affected by **day passes** which are expected to be popular at the weekend."
   ]
  },
  {
   "cell_type": "markdown",
   "metadata": {
    "slideshow": {
     "slide_type": "slide"
    }
   },
   "source": [
    "<a id='conclusion'></a>\n",
    "# 3. Conclusion"
   ]
  },
  {
   "cell_type": "markdown",
   "metadata": {
    "slideshow": {
     "slide_type": "slide"
    }
   },
   "source": [
    "## Summary\n",
    "\n",
    "**Duration:**\n",
    "- Most people use the bikes between 120 seconds and 1200 seconds.\n",
    "\n",
    "**Over the day:**\n",
    "- There are clear peaks at rush hour, i.e. between 7am and 9am and between 4pm and 6pm.\n",
    "\n",
    "**Over the week:**\n",
    "- The Bay Wheels service is all in all less popular at the weekend.<br>\n",
    "\n",
    "**Over the year:**\n",
    "- All in all, there are more bike rides in summer.\n",
    "- In 2018, users did consistently more bike rides in the summer months.\n",
    "- In 2019 however, there were peaks in March and October and the service was equally popular in January and June.\n",
    "  - The differences in the popularity between 2018 and 2019 could be affected by:\n",
    "    - **Marketing activities** (Lyft may have pushed the service in winter based on the learnings from 2018) \n",
    "    - **Weather** (temperature, precipitation)\n",
    "    - **Other transportation methods** (e.g. strike of public transportation service employees)\n",
    "- Visualizations show clear drops in the Christmas and the Thanksgiving week (holidays and less commuters).\n",
    "\n",
    "**User types:**\n",
    "- **Subscribers:**\n",
    "  - Account for 80% of all bike rides\n",
    "  - Mostly use the service during the week for commuting\n",
    "  - 50% less bike rides at a weekend day compared to a day from Monday to Friday.\n",
    "\n",
    "- **Customers:**\n",
    "  - Account for 20% of all bike rides\n",
    "  - Use the service for commuting but also at the weekend\n",
    "  - Spend more time with a bike than Subscribers"
   ]
  },
  {
   "cell_type": "markdown",
   "metadata": {
    "slideshow": {
     "slide_type": "subslide"
    }
   },
   "source": [
    "## Business Decisions\n",
    "\n",
    "- Lyft should seek to **achieve a high utilization** of the bikes in their fleet. There may be potential in winter months although Lyft was able to balance the utilization well in 2019).\n",
    "- **Subscribers** want to get from A to B as quick as possible. They may be interested in faster options: The use of **e-bikes** may be pushed here. This will generate additional revenue.\n",
    "- At the weekend, there may be potential for selling day passes to **Subscribers**, maybe with a special Subscriber discount.\n",
    "- Weekend passes in combination with e-bikes, both for **Customers** and **Subscribers**, would increase the radius a service user can reach by bike and create new opportunities.\n",
    "- **Customers** should be converted **Subscribers** in order to generate recurring revenues. This would increase customer retention and could be effective especially for the customers that use the service for commuting.\n",
    "- Lyft can reach existing users conveniently and at a low cost via the app.\n",
    "\n",
    "\n",
    "- Beyond that, Lyft should obviously seek to **increase the customer base**, e.g. with special promotions.\n",
    "- The bike market, especially the e-bike market, is rising in Europe. There is lots of potential in the US as well."
   ]
  },
  {
   "cell_type": "markdown",
   "metadata": {
    "slideshow": {
     "slide_type": "slide"
    }
   },
   "source": [
    "## Resources\n",
    "\n",
    "- Data source: https://www.lyft.com/bikes/bay-wheels/system-data\n",
    "- Pricing: https://www.lyft.com/bikes/bay-wheels/pricing\n",
    "- Additional information: https://en.wikipedia.org/wiki/Bay_Wheels"
   ]
  },
  {
   "cell_type": "code",
   "execution_count": null,
   "metadata": {},
   "outputs": [],
   "source": []
  }
 ],
 "metadata": {
  "kernelspec": {
   "display_name": "Python 3",
   "language": "python",
   "name": "python3"
  },
  "language_info": {
   "codemirror_mode": {
    "name": "ipython",
    "version": 3
   },
   "file_extension": ".py",
   "mimetype": "text/x-python",
   "name": "python",
   "nbconvert_exporter": "python",
   "pygments_lexer": "ipython3",
   "version": "3.7.6"
  }
 },
 "nbformat": 4,
 "nbformat_minor": 4
}
